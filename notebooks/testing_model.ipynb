{
 "cells": [
  {
   "cell_type": "code",
   "execution_count": 1,
   "id": "5d831c35",
   "metadata": {},
   "outputs": [
    {
     "name": "stderr",
     "output_type": "stream",
     "text": [
      "/opt/conda/lib/python3.9/site-packages/torchvision/io/image.py:13: UserWarning: Failed to load image Python extension: '/opt/conda/lib/python3.9/site-packages/torchvision/image.so: undefined symbol: _ZN3c1017RegisterOperatorsD1Ev'If you don't plan on using image functionality from `torchvision.io`, you can ignore this warning. Otherwise, there might be something wrong with your environment. Did you have `libjpeg` or `libpng` installed before building `torchvision` from source?\n",
      "  warn(\n"
     ]
    },
    {
     "name": "stdout",
     "output_type": "stream",
     "text": [
      "Jupyter environment detected. Enabling Open3D WebVisualizer.\n",
      "[Open3D INFO] WebRTC GUI backend enabled.\n",
      "[Open3D INFO] WebRTCWindowSystem: HTTP handshake server disabled.\n"
     ]
    },
    {
     "data": {
      "text/plain": [
       "<module 'utils.dataloader' from '/home/mushaikh/private/PointCloudPosePrediction/utils/dataloader.py'>"
      ]
     },
     "execution_count": 1,
     "metadata": {},
     "output_type": "execute_result"
    }
   ],
   "source": [
    "%reload_ext autoreload\n",
    "import os\n",
    "curr_dir = \"/home/mushaikh/private/PointCloudPosePrediction\"\n",
    "os.chdir(curr_dir)\n",
    "# os.chdir(\"/Users/mustafa/Documents/grad school/spring 2024/ECE285 - Visual Learning/PointCloudPosePrediction\")\n",
    "import importlib\n",
    "import time\n",
    "from utils.utils import invert_pose\n",
    "import numpy as np\n",
    "import transforms3d\n",
    "from transforms3d.quaternions import mat2quat\n",
    "import torch\n",
    "import torch.nn as nn\n",
    "import torch.nn as nn\n",
    "from torch.autograd import Variable\n",
    "import torch.nn.functional as F\n",
    "from torch.utils.data import Dataset, DataLoader\n",
    "from torch.autograd import Variable\n",
    "import torch.nn.functional as F\n",
    "import torch.optim as optim\n",
    "import torchvision.transforms as transforms\n",
    "import open3d as o3d\n",
    "from scipy.io import loadmat\n",
    "from scipy.spatial.transform import Rotation as R\n",
    "from tqdm import tqdm\n",
    "from typing import Any, Callable, Optional, Tuple\n",
    "import yaml\n",
    "import cv2\n",
    "import matplotlib.pyplot as plt\n",
    "import core.pointnet as pnet\n",
    "import core.deep_pose_estimator as dpe\n",
    "import utils.dataloader\n",
    "import utils.utils\n",
    "import utils.vision\n",
    "importlib.reload(dpe)\n",
    "importlib.reload(pnet)\n",
    "importlib.reload(utils.utils)\n",
    "importlib.reload(utils.vision)\n",
    "importlib.reload(utils.dataloader)"
   ]
  },
  {
   "cell_type": "code",
   "execution_count": 2,
   "id": "8ae8798e",
   "metadata": {},
   "outputs": [],
   "source": [
    "# run data loader\n",
    "run_num = 6\n",
    "data_set_num = 100\n",
    "\n",
    "# load params for current model run; choose model run below after creating yaml file for it\n",
    "with open(\"./models/run_{x}/run_{x}.yaml\".format(x=run_num)) as f:\n",
    "    params = yaml.safe_load(f)\n",
    "\n",
    "dataset= utils.dataloader.EdenDataset(\"/home/mushaikh/private/sample\",\n",
    "                                            keypt_method=params['keypoint_detection']['detection_method'],\n",
    "                                            pcd_num_pts=params['keypoint_detection']['pcd_num_pts']\n",
    "                                            )"
   ]
  },
  {
   "cell_type": "code",
   "execution_count": 3,
   "id": "9acfa58b",
   "metadata": {},
   "outputs": [],
   "source": [
    "USE_GPU = True\n",
    "\n",
    "if USE_GPU and torch.cuda.is_available():\n",
    "    device = torch.device('cuda')\n",
    "else:\n",
    "    device = torch.device('cpu')\n",
    "    \n",
    "    \n",
    "if torch.cuda.is_available():\n",
    "    torch.cuda.manual_seed(42)\n",
    "else:\n",
    "    torch.manual_seed(42)"
   ]
  },
  {
   "cell_type": "code",
   "execution_count": 4,
   "id": "26411460",
   "metadata": {
    "collapsed": true,
    "jupyter": {
     "outputs_hidden": true
    },
    "tags": []
   },
   "outputs": [
    {
     "data": {
      "text/plain": [
       "DeepPoseEstimator(\n",
       "  (pcd_feat): PointNetFeatureExtractor(\n",
       "    (feat): PointNetfeat(\n",
       "      (stn): STN3d(\n",
       "        (conv1): Conv1d(3, 64, kernel_size=(1,), stride=(1,))\n",
       "        (conv2): Conv1d(64, 128, kernel_size=(1,), stride=(1,))\n",
       "        (conv3): Conv1d(128, 1024, kernel_size=(1,), stride=(1,))\n",
       "        (fc1): Linear(in_features=1024, out_features=512, bias=True)\n",
       "        (fc2): Linear(in_features=512, out_features=256, bias=True)\n",
       "        (fc3): Linear(in_features=256, out_features=9, bias=True)\n",
       "        (relu): ReLU()\n",
       "        (bn1): BatchNorm1d(64, eps=1e-05, momentum=0.1, affine=True, track_running_stats=True)\n",
       "        (bn2): BatchNorm1d(128, eps=1e-05, momentum=0.1, affine=True, track_running_stats=True)\n",
       "        (bn3): BatchNorm1d(1024, eps=1e-05, momentum=0.1, affine=True, track_running_stats=True)\n",
       "        (bn4): BatchNorm1d(512, eps=1e-05, momentum=0.1, affine=True, track_running_stats=True)\n",
       "        (bn5): BatchNorm1d(256, eps=1e-05, momentum=0.1, affine=True, track_running_stats=True)\n",
       "      )\n",
       "      (conv1): Conv1d(3, 64, kernel_size=(1,), stride=(1,))\n",
       "      (conv2): Conv1d(64, 128, kernel_size=(1,), stride=(1,))\n",
       "      (conv3): Conv1d(128, 1024, kernel_size=(1,), stride=(1,))\n",
       "      (bn1): BatchNorm1d(64, eps=1e-05, momentum=0.1, affine=True, track_running_stats=True)\n",
       "      (bn2): BatchNorm1d(128, eps=1e-05, momentum=0.1, affine=True, track_running_stats=True)\n",
       "      (bn3): BatchNorm1d(1024, eps=1e-05, momentum=0.1, affine=True, track_running_stats=True)\n",
       "      (fstn): STNkd(\n",
       "        (conv1): Conv1d(64, 64, kernel_size=(1,), stride=(1,))\n",
       "        (conv2): Conv1d(64, 128, kernel_size=(1,), stride=(1,))\n",
       "        (conv3): Conv1d(128, 1024, kernel_size=(1,), stride=(1,))\n",
       "        (fc1): Linear(in_features=1024, out_features=512, bias=True)\n",
       "        (fc2): Linear(in_features=512, out_features=256, bias=True)\n",
       "        (fc3): Linear(in_features=256, out_features=4096, bias=True)\n",
       "        (relu): ReLU()\n",
       "        (bn1): BatchNorm1d(64, eps=1e-05, momentum=0.1, affine=True, track_running_stats=True)\n",
       "        (bn2): BatchNorm1d(128, eps=1e-05, momentum=0.1, affine=True, track_running_stats=True)\n",
       "        (bn3): BatchNorm1d(1024, eps=1e-05, momentum=0.1, affine=True, track_running_stats=True)\n",
       "        (bn4): BatchNorm1d(512, eps=1e-05, momentum=0.1, affine=True, track_running_stats=True)\n",
       "        (bn5): BatchNorm1d(256, eps=1e-05, momentum=0.1, affine=True, track_running_stats=True)\n",
       "      )\n",
       "    )\n",
       "    (conv1): Conv1d(1088, 512, kernel_size=(1,), stride=(1,))\n",
       "    (conv2): Conv1d(512, 256, kernel_size=(1,), stride=(1,))\n",
       "    (conv3): Conv1d(256, 128, kernel_size=(1,), stride=(1,))\n",
       "    (bn1): BatchNorm1d(512, eps=1e-05, momentum=0.1, affine=True, track_running_stats=True)\n",
       "    (bn2): BatchNorm1d(256, eps=1e-05, momentum=0.1, affine=True, track_running_stats=True)\n",
       "    (bn3): BatchNorm1d(128, eps=1e-05, momentum=0.1, affine=True, track_running_stats=True)\n",
       "  )\n",
       "  (pca): PCA()\n",
       "  (conv1): Conv1d(5, 1, kernel_size=(1,), stride=(1,))\n",
       "  (bn1): BatchNorm1d(1, eps=1e-05, momentum=0.1, affine=True, track_running_stats=True)\n",
       "  (relu): ReLU()\n",
       "  (fc): Linear(in_features=40000, out_features=7, bias=True)\n",
       ")"
      ]
     },
     "execution_count": 4,
     "metadata": {},
     "output_type": "execute_result"
    }
   ],
   "source": [
    "model = dpe.DeepPoseEstimator(num_pts=params['keypoint_detection']['pcd_num_pts'], use_pca=True)\n",
    "model.load_state_dict(torch.load('./models/run_6/run_6_deep_pose_6.pth'))\n",
    "model.eval()"
   ]
  },
  {
   "cell_type": "code",
   "execution_count": 5,
   "id": "28b1f086",
   "metadata": {},
   "outputs": [],
   "source": [
    "positions = np.zeros((500, 3))\n",
    "for j in range(100):\n",
    "    positions[j] = invert_pose(dataset[j]['pose'])[:3,3] # ground truth poses "
   ]
  },
  {
   "cell_type": "code",
   "execution_count": 6,
   "id": "1a95e137",
   "metadata": {
    "scrolled": true,
    "tags": []
   },
   "outputs": [
    {
     "name": "stdout",
     "output_type": "stream",
     "text": [
      "iteration 0\n",
      "iteration 10\n",
      "iteration 20\n",
      "iteration 30\n",
      "iteration 40\n",
      "iteration 50\n",
      "iteration 60\n",
      "iteration 70\n",
      "iteration 80\n",
      "iteration 90\n"
     ]
    },
    {
     "data": {
      "image/png": "[encoded data removed]",
      "text/plain": [
       "<Figure size 432x288 with 1 Axes>"
      ]
     },
     "metadata": {
      "needs_background": "light"
     },
     "output_type": "display_data"
    }
   ],
   "source": [
    "# testing model trajectory\n",
    "model.to(device)\n",
    "\n",
    "poses = np.zeros((4, 4, data_set_num))\n",
    "poses_pred = np.zeros((4, 4, data_set_num))\n",
    "poses[:, :, 0] = invert_pose(dataset[0]['pose']) # Pose of the robot in body frame at time t = 0\n",
    "poses[:, :, 0][:3, 3] = poses[:, :, 0][:3, 3] * 100\n",
    "\n",
    "# saving predicted positions and orientation\n",
    "\n",
    "p = np.zeros((data_set_num, 3))\n",
    "q = np.zeros((data_set_num, 4))\n",
    "\n",
    "\n",
    "for i in range(data_set_num - 1):\n",
    "    \n",
    "    if i % 10 == 0:\n",
    "        print(\"iteration\", i)\n",
    "    \n",
    "    pose_pred = np.zeros((4, 4)) # make an empty predicted pose from model\n",
    "    \n",
    "    with torch.no_grad():\n",
    "        # get the point clouds from the dataset\n",
    "        pcd1, pcd2 = dataset[i][\"pcd1\"], dataset[i][\"pcd2\"]\n",
    "        pcd1, pcd2 = pcd1.transpose(1,0).unsqueeze(0), pcd2.transpose(1,0).unsqueeze(0)\n",
    "        pcd1, pcd2 = pcd1.to(device), pcd2.to(device) # move\n",
    "        pred, _, _ = model(pcd1, pcd2)\n",
    "        # move pred to cpu\n",
    "        pred = pred.detach().cpu().numpy()[0]\n",
    "        \n",
    "        \n",
    "    pos_pred = pred[:3] # get position\n",
    "    quat_pred = pred[3:] # get quaternion\n",
    "\n",
    "\n",
    "    # flip quat format such that q = qw qx qy qz\n",
    "    new_quat_pred = np.zeros((4))\n",
    "    new_quat_pred[0] = quat_pred[3]\n",
    "    new_quat_pred[1] = quat_pred[0]\n",
    "    new_quat_pred[2] = quat_pred[1]\n",
    "    new_quat_pred[3] = quat_pred[2]\n",
    "    \n",
    "    # save position and quaternion prediction\n",
    "    p[i, :] = pos_pred\n",
    "    q[i, :] = new_quat_pred\n",
    "    # \n",
    "    \n",
    "    poses_pred[:, :, i][0:3, 0:3] = transforms3d.quaternions.quat2mat(new_quat_pred)\n",
    "    poses_pred[:, :, i][:3, 3] = pos_pred\n",
    "       \n",
    "        \n",
    "    poses[:, :, i + 1] = np.matmul(poses_pred[:, :, i], poses[:, :, i]) # world to body pose\n",
    "    \n",
    "    \n",
    "# plot\n",
    "plt.plot(positions[:data_set_num,0] * 100,positions[:data_set_num,1] * 100)\n",
    "plt.plot(poses[0, -1, :], poses[1, -1, :])\n",
    "plt.title(\"Predicted model pose trajectory over ground truth\")\n",
    "plt.show()"
   ]
  },
  {
   "cell_type": "code",
   "execution_count": 15,
   "id": "a478c445-a128-4da7-ae24-090667311cfb",
   "metadata": {},
   "outputs": [
    {
     "data": {
      "text/plain": [
       "3.1468693587915646"
      ]
     },
     "execution_count": 15,
     "metadata": {},
     "output_type": "execute_result"
    }
   ],
   "source": [
    "2*np.arccos(-2.63834954e-03)"
   ]
  },
  {
   "cell_type": "code",
   "execution_count": 11,
   "id": "15770080",
   "metadata": {},
   "outputs": [
    {
     "ename": "KeyboardInterrupt",
     "evalue": "",
     "output_type": "error",
     "traceback": [
      "\u001b[0;31m---------------------------------------------------------------------------\u001b[0m",
      "\u001b[0;31mKeyboardInterrupt\u001b[0m                         Traceback (most recent call last)",
      "\u001b[0;32m/tmp/ipykernel_13106/4271901466.py\u001b[0m in \u001b[0;36m<module>\u001b[0;34m\u001b[0m\n\u001b[1;32m     16\u001b[0m \u001b[0;34m\u001b[0m\u001b[0m\n\u001b[1;32m     17\u001b[0m     \u001b[0mmat_est\u001b[0m\u001b[0;34m[\u001b[0m\u001b[0mi\u001b[0m\u001b[0;34m,\u001b[0m \u001b[0;34m:\u001b[0m\u001b[0;34m]\u001b[0m \u001b[0;34m=\u001b[0m \u001b[0mnp\u001b[0m\u001b[0;34m.\u001b[0m\u001b[0mappend\u001b[0m\u001b[0;34m(\u001b[0m\u001b[0mi\u001b[0m\u001b[0;34m,\u001b[0m \u001b[0mnp\u001b[0m\u001b[0;34m.\u001b[0m\u001b[0mappend\u001b[0m\u001b[0;34m(\u001b[0m\u001b[0mposes\u001b[0m\u001b[0;34m[\u001b[0m\u001b[0;34m:\u001b[0m\u001b[0;34m,\u001b[0m \u001b[0;34m:\u001b[0m\u001b[0;34m,\u001b[0m \u001b[0mi\u001b[0m\u001b[0;34m]\u001b[0m\u001b[0;34m[\u001b[0m\u001b[0;34m:\u001b[0m\u001b[0;36m3\u001b[0m\u001b[0;34m,\u001b[0m \u001b[0;36m3\u001b[0m\u001b[0;34m]\u001b[0m\u001b[0;34m,\u001b[0m \u001b[0mnew_quat\u001b[0m\u001b[0;34m)\u001b[0m\u001b[0;34m)\u001b[0m\u001b[0;34m\u001b[0m\u001b[0;34m\u001b[0m\u001b[0m\n\u001b[0;32m---> 18\u001b[0;31m     \u001b[0mmat_gt\u001b[0m\u001b[0;34m[\u001b[0m\u001b[0mi\u001b[0m\u001b[0;34m,\u001b[0m \u001b[0;34m:\u001b[0m\u001b[0;34m]\u001b[0m \u001b[0;34m=\u001b[0m \u001b[0mnp\u001b[0m\u001b[0;34m.\u001b[0m\u001b[0mappend\u001b[0m\u001b[0;34m(\u001b[0m\u001b[0mi\u001b[0m\u001b[0;34m,\u001b[0m \u001b[0mnp\u001b[0m\u001b[0;34m.\u001b[0m\u001b[0mappend\u001b[0m\u001b[0;34m(\u001b[0m\u001b[0minvert_pose\u001b[0m\u001b[0;34m(\u001b[0m\u001b[0mdataset\u001b[0m\u001b[0;34m[\u001b[0m\u001b[0mi\u001b[0m\u001b[0;34m]\u001b[0m\u001b[0;34m[\u001b[0m\u001b[0;34m'pose'\u001b[0m\u001b[0;34m]\u001b[0m\u001b[0;34m)\u001b[0m\u001b[0;34m[\u001b[0m\u001b[0;34m:\u001b[0m\u001b[0;36m3\u001b[0m\u001b[0;34m,\u001b[0m \u001b[0;36m3\u001b[0m\u001b[0;34m]\u001b[0m \u001b[0;34m*\u001b[0m \u001b[0;36m100\u001b[0m\u001b[0;34m,\u001b[0m \u001b[0mmat2quat\u001b[0m\u001b[0;34m(\u001b[0m\u001b[0minvert_pose\u001b[0m\u001b[0;34m(\u001b[0m\u001b[0mdataset\u001b[0m\u001b[0;34m[\u001b[0m\u001b[0mi\u001b[0m\u001b[0;34m]\u001b[0m\u001b[0;34m[\u001b[0m\u001b[0;34m'pose'\u001b[0m\u001b[0;34m]\u001b[0m\u001b[0;34m)\u001b[0m\u001b[0;34m[\u001b[0m\u001b[0;36m0\u001b[0m\u001b[0;34m:\u001b[0m\u001b[0;36m3\u001b[0m\u001b[0;34m,\u001b[0m \u001b[0;36m0\u001b[0m\u001b[0;34m:\u001b[0m\u001b[0;36m3\u001b[0m\u001b[0;34m]\u001b[0m\u001b[0;34m)\u001b[0m\u001b[0;34m)\u001b[0m\u001b[0;34m)\u001b[0m\u001b[0;34m\u001b[0m\u001b[0;34m\u001b[0m\u001b[0m\n\u001b[0m\u001b[1;32m     19\u001b[0m \u001b[0;34m\u001b[0m\u001b[0m\n\u001b[1;32m     20\u001b[0m \u001b[0;34m\u001b[0m\u001b[0m\n",
      "\u001b[0;32m~/private/PointCloudPosePrediction/utils/dataloader.py\u001b[0m in \u001b[0;36m__getitem__\u001b[0;34m(self, index)\u001b[0m\n\u001b[1;32m     52\u001b[0m         \u001b[0mrgb_file\u001b[0m \u001b[0;34m=\u001b[0m \u001b[0mrgb_file_list\u001b[0m\u001b[0;34m[\u001b[0m\u001b[0mpos\u001b[0m\u001b[0;34m*\u001b[0m\u001b[0;36m2\u001b[0m\u001b[0;34m]\u001b[0m \u001b[0;31m# rgb dir has L/R pairs i.e. double the number of images\u001b[0m\u001b[0;34m\u001b[0m\u001b[0;34m\u001b[0m\u001b[0m\n\u001b[1;32m     53\u001b[0m \u001b[0;34m\u001b[0m\u001b[0m\n\u001b[0;32m---> 54\u001b[0;31m         \u001b[0mself\u001b[0m\u001b[0;34m.\u001b[0m\u001b[0mrgb\u001b[0m \u001b[0;34m=\u001b[0m \u001b[0mcv2\u001b[0m\u001b[0;34m.\u001b[0m\u001b[0mimread\u001b[0m\u001b[0;34m(\u001b[0m\u001b[0mos\u001b[0m\u001b[0;34m.\u001b[0m\u001b[0mpath\u001b[0m\u001b[0;34m.\u001b[0m\u001b[0mjoin\u001b[0m\u001b[0;34m(\u001b[0m\u001b[0mrgb_dir_path\u001b[0m\u001b[0;34m,\u001b[0m \u001b[0mrgb_file\u001b[0m\u001b[0;34m)\u001b[0m\u001b[0;34m,\u001b[0m \u001b[0mcv2\u001b[0m\u001b[0;34m.\u001b[0m\u001b[0mIMREAD_GRAYSCALE\u001b[0m\u001b[0;34m)\u001b[0m\u001b[0;34m\u001b[0m\u001b[0;34m\u001b[0m\u001b[0m\n\u001b[0m\u001b[1;32m     55\u001b[0m         \u001b[0mself\u001b[0m\u001b[0;34m.\u001b[0m\u001b[0mseg\u001b[0m \u001b[0;34m=\u001b[0m \u001b[0mcv2\u001b[0m\u001b[0;34m.\u001b[0m\u001b[0mimread\u001b[0m\u001b[0;34m(\u001b[0m\u001b[0mos\u001b[0m\u001b[0;34m.\u001b[0m\u001b[0mpath\u001b[0m\u001b[0;34m.\u001b[0m\u001b[0mjoin\u001b[0m\u001b[0;34m(\u001b[0m\u001b[0mseg_dir_path\u001b[0m\u001b[0;34m,\u001b[0m \u001b[0mrgb_file\u001b[0m\u001b[0;34m[\u001b[0m\u001b[0;34m:\u001b[0m\u001b[0;34m-\u001b[0m\u001b[0;36m4\u001b[0m\u001b[0;34m]\u001b[0m \u001b[0;34m+\u001b[0m \u001b[0;34m\"_Sem.png\"\u001b[0m\u001b[0;34m)\u001b[0m\u001b[0;34m,\u001b[0m \u001b[0mcv2\u001b[0m\u001b[0;34m.\u001b[0m\u001b[0mIMREAD_GRAYSCALE\u001b[0m\u001b[0;34m)\u001b[0m\u001b[0;34m\u001b[0m\u001b[0;34m\u001b[0m\u001b[0m\n\u001b[1;32m     56\u001b[0m         \u001b[0mself\u001b[0m\u001b[0;34m.\u001b[0m\u001b[0mpose\u001b[0m \u001b[0;34m=\u001b[0m \u001b[0mloadmat\u001b[0m\u001b[0;34m(\u001b[0m\u001b[0mos\u001b[0m\u001b[0;34m.\u001b[0m\u001b[0mpath\u001b[0m\u001b[0;34m.\u001b[0m\u001b[0mjoin\u001b[0m\u001b[0;34m(\u001b[0m\u001b[0mpose_dir_path\u001b[0m\u001b[0;34m,\u001b[0m \u001b[0mrgb_file\u001b[0m\u001b[0;34m[\u001b[0m\u001b[0;34m:\u001b[0m\u001b[0;34m-\u001b[0m\u001b[0;36m6\u001b[0m\u001b[0;34m]\u001b[0m \u001b[0;34m+\u001b[0m \u001b[0;34m\".mat\"\u001b[0m\u001b[0;34m)\u001b[0m\u001b[0;34m)\u001b[0m\u001b[0;34m[\u001b[0m\u001b[0;34m\"RT_L\"\u001b[0m\u001b[0;34m]\u001b[0m\u001b[0;34m\u001b[0m\u001b[0;34m\u001b[0m\u001b[0m\n",
      "\u001b[0;31mKeyboardInterrupt\u001b[0m: "
     ]
    }
   ],
   "source": [
    "# prepare data for evo visualization\n",
    "\n",
    "mat_est = np.zeros((data_set_num, 8))\n",
    "mat_gt = np.zeros((data_set_num, 8))\n",
    "for i in range(data_set_num):\n",
    "    \n",
    "    \n",
    "    # quat from poses pred\n",
    "    new_quat = np.zeros((4))\n",
    "    quat = mat2quat(poses[:, :, i][0:3, 0:3])\n",
    "    new_quat[0] = quat[1]\n",
    "    new_quat[1] = quat[2]\n",
    "    new_quat[2] = quat[3]\n",
    "    new_quat[3] = quat[0]\n",
    "\n",
    "\n",
    "    mat_est[i, :] = np.append(i, np.append(poses[:, :, i][:3, 3], new_quat))\n",
    "    mat_gt[i, :] = np.append(i, np.append(invert_pose(dataset[i]['pose'])[:3, 3] * 100, mat2quat(invert_pose(dataset[i]['pose'])[0:3, 0:3])))\n",
    "\n",
    "\n",
    "filename_est = 'results/stamped_traj_estimate_run_{}.txt'.format(run_num)\n",
    "filename_gt = 'results/stamped_groundtruth_run_{}.txt'.format(run_num)\n",
    "\n",
    "# Save the matrix to the text file with the desired format\n",
    "np.savetxt(filename_est, mat_est, fmt='%.10e', delimiter=' ')\n",
    "np.savetxt(filename_gt, mat_gt, fmt='%.10e', delimiter=' ')"
   ]
  },
  {
   "cell_type": "code",
   "execution_count": 8,
   "id": "884656b2-0189-4cad-9d5d-6cbea0c8c6a8",
   "metadata": {},
   "outputs": [],
   "source": [
    "# run evo_traj for plots for trajectory\n",
    "# evo_traj tum results/plotting_test/stamped_traj_estimate.txt --ref=rpg_trajectory_evaluation/results/plotting_test/stamped_groundtruth.txt -p --plot_mode=xy"
   ]
  },
  {
   "cell_type": "code",
   "execution_count": 9,
   "id": "0d04e83b-58b0-4798-88bd-9d3ff8589823",
   "metadata": {},
   "outputs": [],
   "source": [
    "# run evo_ape to output data for plotting later\n",
    "# evo_ape tum ./stamped_groundtruth.txt ./stamped_traj_estimate.txt -va --plot --plot_mode xy --save_results ./evo_ape.zip"
   ]
  },
  {
   "cell_type": "code",
   "execution_count": 10,
   "id": "065bc0b1-8277-4357-8588-2b088747f3ec",
   "metadata": {},
   "outputs": [],
   "source": [
    "# run evo_res for tables, histograms\n",
    "# evo_res evo_ape.zip -p --save_table ./table.csv"
   ]
  }
 ],
 "metadata": {
  "kernelspec": {
   "display_name": "Python 3 (ipykernel)",
   "language": "python",
   "name": "python3"
  },
  "language_info": {
   "codemirror_mode": {
    "name": "ipython",
    "version": 3
   },
   "file_extension": ".py",
   "mimetype": "text/x-python",
   "name": "python",
   "nbconvert_exporter": "python",
   "pygments_lexer": "ipython3",
   "version": "3.9.5"
  }
 },
 "nbformat": 4,
 "nbformat_minor": 5
}
