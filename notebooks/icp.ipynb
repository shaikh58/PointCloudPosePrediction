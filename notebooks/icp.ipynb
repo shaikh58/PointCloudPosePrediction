{
 "cells": [
  {
   "cell_type": "code",
   "execution_count": 124,
   "metadata": {},
   "outputs": [],
   "source": [
    "#from utils import read_canonical_model, load_pc\n",
    "# import autograd.numpy as np\n",
    "#import utils\n",
    "import numpy as np\n",
    "from copy import deepcopy\n",
    "import os\n",
    "os.chdir(\"/Users/rich13/PointCloudPosePrediction\")\n",
    "from utils.utils import invert_pose\n",
    "import importlib\n",
    "import yaml\n",
    "from sklearn.neighbors import NearestNeighbors\n",
    "from scipy.spatial import KDTree\n",
    "import transforms3d as t3d\n",
    "import transforms3d.quaternions as tq\n",
    "import transforms3d.axangles as ax\n",
    "# from autograd import grad\n",
    "from numpy.linalg import norm\n",
    "from scipy.spatial.transform import Rotation as R\n",
    "import torch\n",
    "import torch.nn as nn\n",
    "from torch.autograd import Variable\n",
    "import torch.nn.functional as F\n",
    "from torch.utils.data import Dataset, DataLoader\n",
    "import torchvision.transforms as transforms\n",
    "import dgl.geometry\n",
    "import numpy as np\n",
    "# from .utils import read_canonical_model, load_pc, visualize_icp_result\n",
    "# from icp_file import icp\n",
    "import matplotlib\n",
    "import matplotlib.pyplot as plt\n",
    "# matplotlib.use('TkAgg')\n",
    "import torch\n",
    "import core.pointnet as pnet\n",
    "importlib.reload(pnet)\n",
    "import utils.dataloader\n",
    "import utils.utils\n",
    "import utils.vision\n",
    "importlib.reload(utils.utils)\n",
    "importlib.reload(utils.vision)\n",
    "importlib.reload(utils.dataloader)\n",
    "import scipy.io as sio\n",
    "import open3d as o3d\n",
    "import cv2\n",
    "\n",
    "\n",
    "\n",
    "def create_pose(R, p):\n",
    "\n",
    "    T = np.zeros((4, 4))\n",
    "    # R is 3x3\n",
    "    # p is 3x1\n",
    "\n",
    "    T[0:3, 0:3] = R\n",
    "    T[0, 3] = p[0]\n",
    "    T[1, 3] = p[1]\n",
    "    T[2, 3] = p[2]\n",
    "    T[3, 3] = 1\n",
    "\n",
    "    return T\n",
    "\n",
    "def create_rotation_along_z(theta):\n",
    "\n",
    "    return np.array([[np.cos(theta), -np.sin(theta), 0], [np.sin(theta), np.cos(theta), 0], [0, 0, 1]])\n",
    "\n",
    "# Multiply matrices\n",
    "# Given matrices T1, T2, ..., Tn multiply Tn*Tn-1* ... *T1\n",
    "def multiply_matrices(T):\n",
    "\n",
    "    #Where T is of dimension (4, 4, # of iterations)\n",
    "\n",
    "    for i in range(T.shape[2] -1):\n",
    "\n",
    "        if i == 0:\n",
    "            T_curr = T[:, :, i]\n",
    "\n",
    "        T_next = T[:, :, i+1]\n",
    "        T_curr = np.matmul(T_next, T_curr)\n",
    "\n",
    "    return T_curr\n",
    "\n",
    "\n",
    "\n",
    "def kabsch(point_cloud_z, point_cloud_m):\n",
    "\n",
    "    # point_cloud_z is of dimension 3 by N\n",
    "    # point_cloud_m is of dimension 3 by N\n",
    "\n",
    "\n",
    "\n",
    "    #Compute the centroids\n",
    "    cen_m = np.mean(point_cloud_m, axis = 1)\n",
    "    cen_z = np.mean(point_cloud_z, axis = 1)\n",
    "\n",
    "    #Copmute the distances of the point clouds to their center\n",
    "    del_m = point_cloud_m - cen_m.reshape(3, 1)\n",
    "    del_z = point_cloud_z - cen_z.reshape(3, 1)\n",
    "\n",
    "    Q = np.zeros((3, 3))\n",
    "    for k in range(point_cloud_m.shape[1]):\n",
    "        # Q = Q + (del_m[:, k] * np.transpose(del_z[:, k]))\n",
    "        Q = Q + np.outer(del_m[:, k], del_z[:, k])\n",
    "\n",
    "\n",
    "\n",
    "    U, _, Vt = np.linalg.svd(Q) #Get SVD\n",
    "\n",
    "    M = np.array([[1, 0, 0], [0, 1, 0], [0, 0, np.linalg.det(U @ Vt)]])\n",
    "    R_next = U @ M @ Vt # Compute R_next\n",
    "\n",
    "    #print(np.linalg.det(R_next))\n",
    "\n",
    "    p_next = cen_m - np.dot(R_next, cen_z)\n",
    "\n",
    "\n",
    "    return R_next, p_next, np.trace(np.matmul(Q.T, R_next))\n",
    "\n",
    "\n",
    "# def make_association(source, target):\n",
    "#\n",
    "#     # Shapes for source and target are (n, dim) and (m, dim) respectively\n",
    "#\n",
    "#     dim = source.shape[1]\n",
    "#     assert source.shape[1] == dim\n",
    "#     assert target.shape[1] == dim\n",
    "#\n",
    "#     source = source.copy()\n",
    "#     target = target.copy()\n",
    "#     flip = False\n",
    "#     if source.shape[0] < target.shape[0]:\n",
    "#         flip = True\n",
    "#         source, target = target, source\n",
    "#\n",
    "#     assert source.shape[0] >= target.shape[0]\n",
    "#\n",
    "#     # Build Tree for Smallest pt cloud\n",
    "#     tree = KDTree(source)\n",
    "#\n",
    "#     _, delta = tree.query(target)\n",
    "#\n",
    "#     z = source[delta]\n",
    "#\n",
    "#     if flip:\n",
    "#         z, target = target, z\n",
    "#\n",
    "#     return z, target\n",
    "\n",
    "\n",
    "\n",
    "\n",
    "def read_canonical_model(model_name):\n",
    "  '''\n",
    "  Read canonical model from .mat file\n",
    "  model_name: str, 'drill' or 'liq_container'\n",
    "  return: numpy array, (N, 3)\n",
    "  '''\n",
    "\n",
    "  current_directory = os.path.dirname(__file__)\n",
    "  model_fname = os.path.join(current_directory, 'data', model_name, 'model.mat')\n",
    "  model = sio.loadmat(model_fname)\n",
    "\n",
    "  cano_pc = model['Mdata'].T / 1000.0 # convert to meter\n",
    "\n",
    "  return cano_pc\n",
    "\n",
    "\n",
    "def load_pc(model_name, id):\n",
    "  '''\n",
    "  Load point cloud from .npy file\n",
    "  model_name: str, 'drill' or 'liq_container'\n",
    "  id: int, point cloud id\n",
    "  return: numpy array, (N, 3)\n",
    "  '''\n",
    "  current_directory = os.path.dirname(__file__)\n",
    "  pc_fname = os.path.join(current_directory, 'data', model_name, '%d.npy' % id)\n",
    "  pc = np.load(pc_fname)\n",
    "\n",
    "  return pc\n",
    "\n",
    "\n",
    "def visualize_icp_result(source_pc, target_pc, pose):\n",
    "  '''\n",
    "  Visualize the result of ICP\n",
    "  source_pc: numpy array, (N, 3)\n",
    "  target_pc: numpy array, (N, 3)\n",
    "  pose: SE(4) numpy array, (4, 4)\n",
    "  '''\n",
    "  source_pcd = o3d.geometry.PointCloud()\n",
    "  source_pcd.points = o3d.utility.Vector3dVector(source_pc.reshape(-1, 3))\n",
    "  source_pcd.paint_uniform_color([0, 1, 1])\n",
    "\n",
    "  target_pcd = o3d.geometry.PointCloud()\n",
    "  target_pcd.points = o3d.utility.Vector3dVector(target_pc.reshape(-1, 3))\n",
    "  target_pcd.paint_uniform_color([1, 0, 0])\n",
    "\n",
    "  source_pcd.transform(pose)\n",
    "  #target_pcd.transform(np.linalg.inv(pose))\n",
    "\n",
    "  o3d.visualization.draw_geometries([source_pcd, target_pcd])\n",
    "\n",
    "\n",
    "\n",
    "\n",
    "\n",
    "\n",
    "\n",
    "def icp(iters, target, source, R_curr, p_curr):\n",
    "\n",
    "\n",
    "    #Number of points to sample from the cloud\n",
    "#     num_sampled_pts = 5 \n",
    "\n",
    "    point_cloud_m = target\n",
    "\n",
    "    point_cloud_z = source\n",
    "    #sampled_point_cloud_z = np.transpose(point_cloud_z[np.random.choice(point_cloud_z.shape[0], num_sampled_pts, replace=False)])\n",
    "    #sampled_point_cloud_z = np.transpose(point_cloud_z[::num_sampled_pts])\n",
    "    sampled_point_cloud_z = np.transpose(point_cloud_z)\n",
    "\n",
    "\n",
    "    # Build a tree\n",
    "    #tree_source = KDTree(point_cloud_z)\n",
    "    #sampled_point_cloud_z = np.transpose(point_cloud_z)\n",
    "\n",
    "\n",
    "    T_final = np.zeros((4, 4))\n",
    "    #T_save = np.zeros((4, 4, iters + 1))\n",
    "    #loss = np.zeros(iters)\n",
    "    #print(\"Begin ICP\")\n",
    "\n",
    "\n",
    "\n",
    "    #T_save[:, :, 0] = create_pose(R_curr, p_curr)\n",
    "    prev_loss = np.inf\n",
    "    for j in range(iters):\n",
    "\n",
    "\n",
    "\n",
    "        # Create the Data Association\n",
    "        trans_sampled_point_cloud_z = np.transpose(np.matmul(R_curr, sampled_point_cloud_z) + p_curr.reshape(3, 1))\n",
    "        #trans_sampled_point_cloud_m = np.transpose(R_curr) @ (np.transpose(point_cloud_m) - p_curr.reshape(3, 1))\n",
    "        #delta = np.argmin(np.sum((trans_sampled_point_cloud_z[:, np.newaxis, :] - point_cloud_m) ** 2, axis = -1), axis = 1) #Source to target\n",
    "        tree = KDTree(trans_sampled_point_cloud_z)\n",
    "\n",
    "\n",
    "\n",
    "        #delta = find_nbr(trans_sampled_point_cloud_z, point_cloud_m)\n",
    "        _, delta = tree.query(point_cloud_m, k = 1)\n",
    "        loss = np.mean(np.linalg.norm(np.transpose(np.transpose(sampled_point_cloud_z)[delta]) - point_cloud_m.T, axis = 1))\n",
    "\n",
    "        if abs(prev_loss - loss) < 1e-6:\n",
    "            break\n",
    "        prev_loss = loss\n",
    "\n",
    "        #z, m = make_association(trans_sampled_point_cloud_z, point_cloud_m)\n",
    "\n",
    "        #Define new point cloud bases on the Data association\n",
    "        #new_point_cloud_m = np.zeros((3, len(delta)))\n",
    "        #for k in range(len(delta)):\n",
    "            #new_point_cloud_m[:, k] = np.transpose(point_cloud_m[delta[k], :])\n",
    "\n",
    "        #Call Kabsch\n",
    "        # Which will give us the optimal orientation and translation between the two point clouds\n",
    "\n",
    "        # sampled_point_cloud_z = sampled_point_cloud_z.T\n",
    "        #R_next, p_next, _ = kabsch(sampled_point_cloud_z, np.transpose(point_cloud_m[delta]))\n",
    "        R_next, p_next, _ = kabsch(np.transpose(np.transpose(sampled_point_cloud_z)[delta]), point_cloud_m.T)\n",
    "        #print(z.shape)\n",
    "        #print(m.shape)\n",
    "        #3R_next, p_next, _ = kabsch((R_curr.T @ (z.T - p_curr.reshape(3, 1))), np.transpose(m))\n",
    "\n",
    "        # Maybe put a stopping point\n",
    "        #loss[j] = np.trace((((np.dot(R_next, sampled_point_cloud_z) + p_next.reshape(3, 1)) - new_point_cloud_m).T @ ((np.dot(R_next, sampled_point_cloud_z) + p_next.reshape(3, 1)) - new_point_cloud_m)))\n",
    "\n",
    "        #Update\n",
    "        #sampled_point_cloud_z = np.transpose(point_cloud_z[np.random.permutation(num_sampled_pts)])\n",
    "        \n",
    "        \n",
    "\n",
    "        \n",
    "        \n",
    "        # Update\n",
    "        R_curr = R_next\n",
    "        p_curr = p_next\n",
    "\n",
    "\n",
    "\n",
    "    T_final = create_pose(R_curr, p_curr)\n",
    "\n",
    "\n",
    "    return T_final, _\n",
    "\n",
    "\n",
    "\n",
    "\n",
    "\n",
    "\n",
    "\n",
    "\n",
    "def test(obj_name, num_pc, est_pose):\n",
    "\n",
    "  source_pc = read_canonical_model(obj_name)\n",
    "  #source_pc = source_pc[::50]\n",
    "\n",
    "  #sampled_point_cloud_z = source_pc[np.random.permutation(5000)]\n",
    "\n",
    "  for i in range(num_pc):\n",
    "    target_pc = load_pc(obj_name, i)\n",
    "\n",
    "    # estimated_pose, you need to estimate the pose with ICP\n",
    "    pose = est_pose[:, :, i]\n",
    "    #pose = est_pose\n",
    "\n",
    "\n",
    "    # visualize the estimated result\n",
    "    visualize_icp_result(source_pc, target_pc, pose)\n",
    "\n",
    "\n",
    "\n",
    "with open(\"./models/run_1.yaml\") as f:\n",
    "    params = yaml.safe_load(f)\n",
    "\n",
    "    \n",
    "dataset= utils.dataloader.EdenDataset(\"/Users/rich13/PointCloudPosePrediction/sample\",\n",
    "                                            train=True,\n",
    "                                            use_keypt_downsample = True,\n",
    "                                            keypt_method=params['keypoint_detection']['detection_method']\n",
    "#                                             pcd_num_pts=params['keypoint_detection']['pcd_num_pts']\n",
    "                                            )\n",
    "\n",
    "edenLoader = DataLoader(dataset, batch_size=64, shuffle=True, num_workers=1)"
   ]
  },
  {
   "cell_type": "code",
   "execution_count": 125,
   "metadata": {},
   "outputs": [],
   "source": [
    "# create a batch for dev/testing purposes\n",
    "# batch = next(iter(edenLoader))"
   ]
  },
  {
   "cell_type": "code",
   "execution_count": null,
   "metadata": {},
   "outputs": [],
   "source": []
  },
  {
   "cell_type": "code",
   "execution_count": 126,
   "metadata": {},
   "outputs": [],
   "source": [
    "# print(batch['pcd1'][0].shape)\n",
    "# print(batch['pcd2'][0].shape)\n",
    "# print(batch['pose'][0].shape)"
   ]
  },
  {
   "cell_type": "code",
   "execution_count": null,
   "metadata": {},
   "outputs": [],
   "source": []
  },
  {
   "cell_type": "code",
   "execution_count": 127,
   "metadata": {},
   "outputs": [],
   "source": [
    "# visualize_icp_result(dataset[0]['pcd1'], dataset[0]['pcd2'], np.eye(4))"
   ]
  },
  {
   "cell_type": "code",
   "execution_count": 128,
   "metadata": {},
   "outputs": [],
   "source": [
    "# dataset[1]"
   ]
  },
  {
   "cell_type": "code",
   "execution_count": 129,
   "metadata": {},
   "outputs": [],
   "source": [
    "# dataset[1]['pcd1']==dataset[0]['pcd2']"
   ]
  },
  {
   "cell_type": "code",
   "execution_count": 130,
   "metadata": {},
   "outputs": [],
   "source": [
    "positions = np.zeros((500, 3))\n",
    "for j in range(100):\n",
    "    positions[j] = invert_pose(dataset[j]['pose'])[:3,3] # ground truth poses "
   ]
  },
  {
   "cell_type": "code",
   "execution_count": 131,
   "metadata": {},
   "outputs": [],
   "source": [
    "# get pt clouds from open3d library"
   ]
  },
  {
   "cell_type": "code",
   "execution_count": 138,
   "metadata": {},
   "outputs": [
    {
     "name": "stdout",
     "output_type": "stream",
     "text": [
      "0\n",
      "Rel Pose from ICP [[ 1.00000002e+00 -2.64639460e-05 -4.52836440e-05  2.11443093e-05]\n",
      " [ 2.63724629e-05  9.99999933e-01  2.12384003e-04  1.94850322e-05]\n",
      " [ 4.52499499e-05 -2.12369619e-04  9.99999976e-01  2.62390905e-06]\n",
      " [ 0.00000000e+00  0.00000000e+00  0.00000000e+00  1.00000000e+00]]\n",
      "Initialization angle to ICP:  -5.2429310646979474e-08\n",
      "ICP output angle 0.0002178182519920387\n",
      "    \n",
      "Translation initialization to ICP:  [0. 0. 0.]\n",
      "ICP translation output:  [2.11443093e-05 1.94850322e-05 2.62390905e-06]\n",
      "1\n",
      "Rel Pose from ICP [[ 1.00000002e+00 -5.05475348e-08 -1.40474425e-08  3.83029962e+01]\n",
      " [-5.05475348e-08  9.99999955e-01  7.78660296e-09 -3.21389933e+01]\n",
      " [-1.40474425e-08  7.78660296e-09  1.00000000e+00 -1.95004635e-01]\n",
      " [ 0.00000000e+00  0.00000000e+00  0.00000000e+00  1.00000000e+00]]\n",
      "Initialization angle to ICP:  -5.2429310646979474e-08\n",
      "ICP output angle -5.2429310646979474e-08\n",
      "    \n",
      "Translation initialization to ICP:  [ 38.30299618 -32.13899325  -0.19500463]\n",
      "ICP translation output:  [ 38.30299618 -32.13899325  -0.19500463]\n",
      "2\n",
      "Rel Pose from ICP [[ 1.00000002e+00 -5.05475348e-08 -1.40474425e-08  3.83020035e+01]\n",
      " [-5.05475348e-08  9.99999955e-01  7.78660296e-09 -3.21400142e+01]\n",
      " [-1.40474425e-08  7.78660296e-09  1.00000000e+00 -1.04998641e-01]\n",
      " [ 0.00000000e+00  0.00000000e+00  0.00000000e+00  1.00000000e+00]]\n",
      "Initialization angle to ICP:  -5.2429310646979474e-08\n",
      "ICP output angle -5.2429310646979474e-08\n",
      "    \n",
      "Translation initialization to ICP:  [ 38.30200351 -32.14001416  -0.10499864]\n",
      "ICP translation output:  [ 38.30200351 -32.14001416  -0.10499864]\n",
      "3\n",
      "Rel Pose from ICP [[ 9.99735060e-01 -2.30183066e-02 -1.33860160e-08  4.51541634e+01]\n",
      " [ 2.30182568e-02  9.99735027e-01 -9.70711784e-09 -3.71942952e+01]\n",
      " [ 7.66978386e-10  1.64948396e-08  1.00000000e+00 -4.07701488e-06]\n",
      " [ 0.00000000e+00  0.00000000e+00  0.00000000e+00  1.00000000e+00]]\n",
      "Initialization angle to ICP:  0.02302028995501943\n",
      "ICP output angle 0.02302028995501943\n",
      "    \n",
      "Translation initialization to ICP:  [ 4.51541634e+01 -3.71942952e+01 -4.07701488e-06]\n",
      "ICP translation output:  [ 4.51541634e+01 -3.71942952e+01 -4.07701488e-06]\n",
      "4\n",
      "Rel Pose from ICP [[ 9.96044817e-01 -8.88522860e-02  2.70360987e-09  2.17761460e+01]\n",
      " [ 8.88522361e-02  9.96044784e-01  4.61134119e-08 -2.57699721e+01]\n",
      " [-3.67751113e-08 -2.76807806e-08  9.99999940e-01  5.53426910e-06]\n",
      " [ 0.00000000e+00  0.00000000e+00  0.00000000e+00  1.00000000e+00]]\n",
      "Initialization angle to ICP:  0.08896956824877471\n",
      "ICP output angle 0.08896956824877471\n",
      "    \n",
      "Translation initialization to ICP:  [ 2.17761460e+01 -2.57699721e+01  5.53426910e-06]\n",
      "ICP translation output:  [ 2.17761460e+01 -2.57699721e+01  5.53426910e-06]\n",
      "5\n",
      "Rel Pose from ICP [[ 9.99915113e-01 -1.30298538e-02  5.89778575e-09  3.04466874e+00]\n",
      " [ 1.30297609e-02  9.99915038e-01  1.69430727e-09 -3.89379044e+00]\n",
      " [-7.38600736e-08  3.14980574e-08  9.99999881e-01  9.13153159e-06]\n",
      " [ 0.00000000e+00  0.00000000e+00  0.00000000e+00  1.00000000e+00]]\n",
      "Initialization angle to ICP:  0.013030130800678079\n",
      "ICP output angle 0.013030130800678079\n",
      "    \n",
      "Translation initialization to ICP:  [ 3.04466874e+00 -3.89379044e+00  9.13153159e-06]\n",
      "ICP translation output:  [ 3.04466874e+00 -3.89379044e+00  9.13153159e-06]\n",
      "6\n",
      "Rel Pose from ICP [[ 9.91226780e-01 -1.32172322e-01 -6.95338754e-08  3.32610762e+01]\n",
      " [ 1.32172327e-01  9.91226775e-01 -8.39632243e-08 -3.76645047e+01]\n",
      " [ 8.88821475e-08  6.61050133e-08  1.00000006e+00  1.90976761e-01]\n",
      " [ 0.00000000e+00  0.00000000e+00  0.00000000e+00  1.00000000e+00]]\n",
      "Initialization angle to ICP:  0.13256020867825255\n",
      "ICP output angle 0.13256020867825255\n",
      "    \n",
      "Translation initialization to ICP:  [ 33.26107617 -37.6645047    0.19097676]\n",
      "ICP translation output:  [ 33.26107617 -37.6645047    0.19097676]\n",
      "7\n",
      "Rel Pose from ICP [[ 9.89601095e-01 -1.43839281e-01  6.11763312e-08  8.42747330e+01]\n",
      " [ 1.43839397e-01  9.89601231e-01 -6.27789636e-08 -5.53859940e+01]\n",
      " [ 5.99116842e-08  2.12299776e-08  1.00000024e+00 -1.91002587e-01]\n",
      " [ 0.00000000e+00  0.00000000e+00  0.00000000e+00  1.00000000e+00]]\n",
      "Initialization angle to ICP:  0.1443400393806469\n",
      "ICP output angle 0.1443400393806469\n",
      "    \n",
      "Translation initialization to ICP:  [ 84.27473301 -55.38599397  -0.19100259]\n",
      "ICP translation output:  [ 84.27473301 -55.38599397  -0.19100259]\n",
      "8\n",
      "Rel Pose from ICP [[ 9.96764840e-01 -8.03733077e-02  6.06260965e-08  1.85769420e+01]\n",
      " [ 8.03734362e-02  9.96765041e-01 -7.84625831e-09 -2.72810289e+01]\n",
      " [ 6.38150299e-08 -2.87382335e-08  1.00000024e+00 -1.03572595e-08]\n",
      " [ 0.00000000e+00  0.00000000e+00  0.00000000e+00  1.00000000e+00]]\n",
      "Initialization angle to ICP:  0.08046020359859839\n",
      "ICP output angle 0.08046020359859839\n",
      "    \n",
      "Translation initialization to ICP:  [ 1.85769420e+01 -2.72810289e+01 -1.03572595e-08]\n",
      "ICP translation output:  [ 1.85769420e+01 -2.72810289e+01 -1.03572595e-08]\n",
      "9\n",
      "Rel Pose from ICP [[ 9.89605364e-01 -1.43809629e-01  6.38035494e-08  8.47159093e+01]\n",
      " [ 1.43809644e-01  9.89605423e-01  1.72226492e-07 -5.13820901e+01]\n",
      " [-5.52483141e-08 -1.68196354e-07  1.00000006e+00  2.20903643e+00]\n",
      " [ 0.00000000e+00  0.00000000e+00  0.00000000e+00  1.00000000e+00]]\n",
      "Initialization angle to ICP:  0.1443099996525371\n",
      "ICP output angle 0.1443099996525371\n",
      "    \n",
      "Translation initialization to ICP:  [ 84.71590926 -51.38209006   2.20903643]\n",
      "ICP translation output:  [ 84.71590926 -51.38209006   2.20903643]\n",
      "10\n",
      "Rel Pose from ICP [[ 1.00000002e+00 -2.24181114e-08 -2.53062417e-08  4.98719857e+01]\n",
      " [-2.24181114e-08  9.99999912e-01  4.94038602e-09 -3.56901154e+00]\n",
      " [-2.53062417e-08  4.94038602e-09  9.99999881e-01 -2.20900060e+00]\n",
      " [ 0.00000000e+00  0.00000000e+00  0.00000000e+00  1.00000000e+00]]\n",
      "Initialization angle to ICP:  -2.2243795369776126e-08\n",
      "ICP output angle -2.2243795369776126e-08\n",
      "    \n",
      "Translation initialization to ICP:  [49.87198573 -3.56901154 -2.2090006 ]\n",
      "ICP translation output:  [49.87198573 -3.56901154 -2.2090006 ]\n",
      "11\n",
      "Rel Pose from ICP [[ 1.00000002e+00 -2.24181114e-08 -2.53062417e-08  4.98729997e+01]\n",
      " [-2.24181114e-08  9.99999912e-01  4.94038602e-09 -3.56898558e+00]\n",
      " [-2.53062417e-08  4.94038602e-09  9.99999881e-01 -4.32001466e-01]\n",
      " [ 0.00000000e+00  0.00000000e+00  0.00000000e+00  1.00000000e+00]]\n",
      "Initialization angle to ICP:  -2.2243795369776126e-08\n",
      "ICP output angle -2.2243795369776126e-08\n",
      "    \n",
      "Translation initialization to ICP:  [49.87299965 -3.56898558 -0.43200147]\n",
      "ICP translation output:  [49.87299965 -3.56898558 -0.43200147]\n",
      "12\n",
      "Rel Pose from ICP [[ 9.97795027e-01 -6.63707527e-02 -1.05104223e-08  6.47963150e+01]\n",
      " [ 6.63707340e-02  9.97794970e-01 -4.73363824e-08 -3.28343011e+01]\n",
      " [-1.68926866e-08  5.26740347e-08  9.99999940e-01  4.31998954e-01]\n",
      " [ 0.00000000e+00  0.00000000e+00  0.00000000e+00  1.00000000e+00]]\n",
      "Initialization angle to ICP:  0.06641956309845715\n",
      "ICP output angle 0.06641956309845715\n",
      "    \n",
      "Translation initialization to ICP:  [ 64.79631502 -32.83430108   0.43199895]\n",
      "ICP translation output:  [ 64.79631502 -32.83430108   0.43199895]\n",
      "13\n",
      "Rel Pose from ICP [[ 9.99999967e-01 -6.66133815e-16 -5.28353553e-09  4.99990087e+01]\n",
      " [-6.66133815e-16  9.99999967e-01  8.50427385e-10 -2.50987197e-01]\n",
      " [-5.28353553e-09  8.50427385e-10  1.00000000e+00  2.89989612e-02]\n",
      " [ 0.00000000e+00  0.00000000e+00  0.00000000e+00  1.00000000e+00]]\n",
      "Initialization angle to ICP:  -0.05177874011360722\n",
      "ICP output angle -0.05177874011360722\n",
      "    \n",
      "Translation initialization to ICP:  [ 4.99990087e+01 -2.50987197e-01  2.89989612e-02]\n",
      "ICP translation output:  [ 4.99990087e+01 -2.50987197e-01  2.89989612e-02]\n",
      "14\n",
      "Rel Pose from ICP [[ 9.99999967e-01 -6.66133815e-16 -5.28353553e-09  4.99999588e+01]\n",
      " [-6.66133815e-16  9.99999967e-01  8.50427385e-10 -2.50999834e-01]\n",
      " [-5.28353553e-09  8.50427385e-10  1.00000000e+00 -2.89993384e-02]\n",
      " [ 0.00000000e+00  0.00000000e+00  0.00000000e+00  1.00000000e+00]]\n",
      "Initialization angle to ICP:  -0.05177874011360722\n",
      "ICP output angle -0.05177874011360722\n",
      "    \n",
      "Translation initialization to ICP:  [ 4.99999588e+01 -2.50999834e-01 -2.89993384e-02]\n",
      "ICP translation output:  [ 4.99999588e+01 -2.50999834e-01 -2.89993384e-02]\n",
      "15\n",
      "Rel Pose from ICP [[ 9.99999967e-01 -6.66133815e-16 -5.28353553e-09  4.99990013e+01]\n",
      " [-6.66133815e-16  9.99999967e-01  8.50427385e-10 -2.51009836e-01]\n",
      " [-5.28353553e-09  8.50427385e-10  1.00000000e+00 -1.67873823e-06]\n",
      " [ 0.00000000e+00  0.00000000e+00  0.00000000e+00  1.00000000e+00]]\n",
      "Initialization angle to ICP:  -0.05177874011360722\n",
      "ICP output angle -0.05177874011360722\n",
      "    \n",
      "Translation initialization to ICP:  [ 4.99990013e+01 -2.51009836e-01 -1.67873823e-06]\n",
      "ICP translation output:  [ 4.99990013e+01 -2.51009836e-01 -1.67873823e-06]\n"
     ]
    },
    {
     "data": {
      "image/png": "[encoded data removed]",
      "text/plain": [
       "<Figure size 432x288 with 1 Axes>"
      ]
     },
     "metadata": {
      "needs_background": "light"
     },
     "output_type": "display_data"
    }
   ],
   "source": [
    "# ICP with ground truth\n",
    "\n",
    "batch_size = 64 # number of times stamps\n",
    "poses = np.zeros((4, 4, batch_size))\n",
    "poses[:, :, 0] = invert_pose(dataset[0]['pose']) # Pose of the robot in body frame at time t = 0\n",
    "poses[:, :, 0][:3, 3] = poses[:, :, 0][:3, 3] * 100\n",
    "\n",
    "error_p = np.zeros(batch_size)\n",
    "error_R = np.zeros(batch_size)\n",
    "\n",
    "source = o3d.geometry.PointCloud()\n",
    "target = o3d.geometry.PointCloud()\n",
    "\n",
    "threshold = 0.02 # thresholf for ICP\n",
    "for i in range(batch_size - 1):\n",
    "    \n",
    "    print(i)\n",
    "    \n",
    "    \n",
    "    source.points = o3d.utility.Vector3dVector(dataset[i]['pcd1'].numpy())\n",
    "    target.points = o3d.utility.Vector3dVector(dataset[i]['pcd2'].numpy())\n",
    "    \n",
    "    \n",
    "    trans_init = dataset[i]['rel_pose'].numpy()\n",
    "    trans_init[:3, 3] = dataset[i]['rel_pose'][:3, 3].numpy() * 100\n",
    "        \n",
    "\n",
    "    \n",
    "    reg_p2p = o3d.pipelines.registration.registration_icp(\n",
    "    source, target, threshold, trans_init,\n",
    "    o3d.pipelines.registration.TransformationEstimationPointToPoint())\n",
    "    print(\"Rel Pose from ICP\", reg_p2p.transformation)\n",
    "    \n",
    "    \n",
    "    \n",
    "    \n",
    "#     source = np.transpose(dataset[i]['pose'])[0:3, 0:3].numpy() @ (dataset[i]['pcd1'].numpy() - dataset[i]['pose'][:3, 3].numpy()).T\n",
    "#     target = np.transpose(dataset[i + 1]['pose'])[0:3, 0:3].numpy() @ (dataset[i]['pcd2'].numpy() - dataset[i + 1]['pose'][:3, 3].numpy()).T\n",
    "    \n",
    "    # initialize\n",
    "#     p_initial = dataset[i]['translation'].numpy() \n",
    "#     R_initial = R.from_quat(dataset[i]['quat']) # Rotation between t+1 and t\n",
    "    \n",
    "    #pose_initial = icp(5, target, source, np.eye(3), p_initial) # get initial rotation\n",
    "    \n",
    "    # Run ICP to get the pose at the next time step t_T_t+1\n",
    "#     rel_pose, _ = icp(iters, target, source, dataset[i]['rel_pose'][0:3, 0:3], dataset[i]['rel_pose'][:3, 3])\n",
    "    \n",
    "#     R_rel = rel_pose[0:3, 0:3] # relative rotation from icp\n",
    "#     p_rel = rel_pose[:3, 3] # relative translation from icp\n",
    "    \n",
    "    error_p[i] = np.linalg.norm(reg_p2p.transformation[:3, 3] - trans_init[:3, 3])\n",
    "    error_R[i] = ax.mat2axangle(np.matmul(trans_init[0:3, 0:3].T, reg_p2p.transformation[0:3, 0:3]))[1]\n",
    "    \n",
    "\n",
    "    \n",
    "    \n",
    "    print(\"Initialization angle to ICP: \", ax.mat2axangle(trans_init[0:3, 0:3])[1])\n",
    "    print(\"ICP output angle\", ax.mat2axangle(reg_p2p.transformation[0:3, 0:3])[1])\n",
    "    \n",
    "    print(\"    \")\n",
    "#     print(\"Initialization angle to ICP: \", ax.mat2axangle(trans_init[0:3, 0:3])[1])\n",
    "    print(\"Translation initialization to ICP: \", trans_init[:3, 3])\n",
    "    \n",
    "#     print(\"ICP output angle\", ax.mat2axangle(reg_p2p.transformation[0:3, 0:3])[1])\n",
    "    print(\"ICP translation output: \", reg_p2p.transformation[:3, 3])\n",
    "    \n",
    "    if i == 15:\n",
    "        break\n",
    "\n",
    "    #estimate pose at the next time step\n",
    "    poses[:, :, i + 1] = np.matmul(reg_p2p.transformation, poses[:, :, i]) # world to body pose\n",
    "    \n",
    "    \n",
    "    \n",
    "#     #Update\n",
    "#     prev_rel_pose = reg_p2p.transformation # relative pose estimated by ICP\n",
    "plt.plot(positions[:batch_size,0] * 100,positions[:batch_size,1] * 100)\n",
    "plt.plot(poses[0, -1, :], poses[1, -1, :])\n",
    "plt.show()"
   ]
  },
  {
   "cell_type": "code",
   "execution_count": 361,
   "metadata": {},
   "outputs": [
    {
     "data": {
      "image/png": "[encoded data removed]",
      "text/plain": [
       "<Figure size 432x288 with 1 Axes>"
      ]
     },
     "metadata": {
      "needs_background": "light"
     },
     "output_type": "display_data"
    }
   ],
   "source": [
    "# plt.plot(positions[:batch_size,0] * 100,positions[:batch_size,1] * 100)\n",
    "plt.plot(poses[0, -1, :], poses[1, -1, :])\n",
    "plt.show()"
   ]
  },
  {
   "cell_type": "code",
   "execution_count": 363,
   "metadata": {},
   "outputs": [
    {
     "data": {
      "image/png": "[encoded data removed]",
      "text/plain": [
       "<Figure size 432x288 with 1 Axes>"
      ]
     },
     "metadata": {
      "needs_background": "light"
     },
     "output_type": "display_data"
    }
   ],
   "source": [
    "# plt.plot(error_R)\n",
    "plt.plot(error_p)\n",
    "plt.show()"
   ]
  },
  {
   "cell_type": "code",
   "execution_count": 57,
   "metadata": {},
   "outputs": [
    {
     "data": {
      "text/plain": [
       "tensor([[-8.7852e-01,  4.7771e-01,  4.0847e-08,  1.7796e+00],\n",
       "        [-4.0847e-08, -1.1115e-07, -1.0000e+00,  5.0160e-01],\n",
       "        [-4.7771e-01, -8.7852e-01, -1.1115e-07,  8.4094e+00],\n",
       "        [ 0.0000e+00,  0.0000e+00,  0.0000e+00,  1.0000e+00]])"
      ]
     },
     "execution_count": 57,
     "metadata": {},
     "output_type": "execute_result"
    }
   ],
   "source": [
    "dataset[54]['pose']"
   ]
  },
  {
   "cell_type": "code",
   "execution_count": 58,
   "metadata": {},
   "outputs": [
    {
     "data": {
      "text/plain": [
       "tensor([[-8.7852e-01,  4.7771e-01,  4.0847e-08,  1.3040e+00],\n",
       "        [-4.0847e-08, -1.1115e-07, -1.0000e+00,  5.0000e-01],\n",
       "        [-4.7771e-01, -8.7852e-01, -1.1115e-07,  8.2549e+00],\n",
       "        [ 0.0000e+00,  0.0000e+00,  0.0000e+00,  1.0000e+00]])"
      ]
     },
     "execution_count": 58,
     "metadata": {},
     "output_type": "execute_result"
    }
   ],
   "source": [
    "dataset[55]['pose']"
   ]
  },
  {
   "cell_type": "code",
   "execution_count": 59,
   "metadata": {},
   "outputs": [
    {
     "data": {
      "text/plain": [
       "array([[ 9.99999559e-01,  5.69479336e-08,  5.80596214e-08,\n",
       "        -4.91569875e-01],\n",
       "       [ 5.69479336e-08,  9.99999768e-01,  2.28307959e-07,\n",
       "         9.14294366e-02],\n",
       "       [ 5.80596214e-08,  2.28307959e-07,  9.99999762e-01,\n",
       "        -1.60002464e-03],\n",
       "       [ 0.00000000e+00,  0.00000000e+00,  0.00000000e+00,\n",
       "         1.00000000e+00]])"
      ]
     },
     "execution_count": 59,
     "metadata": {},
     "output_type": "execute_result"
    }
   ],
   "source": [
    "np.dot(utils.utils.invert_pose(dataset[55]['pose']), dataset[54]['pose'])"
   ]
  },
  {
   "cell_type": "code",
   "execution_count": 60,
   "metadata": {},
   "outputs": [],
   "source": [
    "new_pose = dataset[55]['rel_pose']\n",
    "new_pose[:3, 3] = dataset[55]['rel_pose'][:3, 3] \n",
    "visualize_icp_result(dataset[55]['pcd1'], dataset[55]['pcd2'], invert_pose(new_pose))"
   ]
  },
  {
   "cell_type": "code",
   "execution_count": 142,
   "metadata": {},
   "outputs": [
    {
     "name": "stdout",
     "output_type": "stream",
     "text": [
      "0\n",
      "1\n",
      "2\n",
      "3\n",
      "4\n",
      "5\n",
      "6\n",
      "7\n",
      "8\n",
      "9\n",
      "10\n",
      "11\n",
      "12\n",
      "13\n",
      "14\n",
      "15\n",
      "16\n",
      "17\n",
      "18\n",
      "19\n",
      "20\n",
      "21\n",
      "22\n",
      "23\n",
      "24\n",
      "25\n",
      "26\n",
      "27\n",
      "28\n",
      "29\n",
      "30\n",
      "31\n",
      "32\n",
      "33\n",
      "34\n",
      "35\n",
      "36\n",
      "37\n",
      "38\n",
      "39\n",
      "40\n",
      "41\n",
      "42\n",
      "43\n",
      "44\n",
      "45\n",
      "46\n",
      "47\n",
      "48\n",
      "49\n",
      "50\n",
      "51\n",
      "52\n",
      "53\n",
      "54\n",
      "55\n",
      "56\n",
      "57\n",
      "58\n",
      "59\n",
      "60\n",
      "61\n",
      "62\n"
     ]
    },
    {
     "data": {
      "image/png": "[encoded data removed]",
      "text/plain": [
       "<Figure size 432x288 with 1 Axes>"
      ]
     },
     "metadata": {
      "needs_background": "light"
     },
     "output_type": "display_data"
    }
   ],
   "source": [
    "# visualize the trajectory of a sequence\n",
    "\n",
    "batch_size = 64 # number of times stamps\n",
    "iters = 100\n",
    "poses = np.zeros((4, 4, batch_size))\n",
    "poses[:, :, 0] = invert_pose(dataset[0]['pose']) # Pose of the robot in body frame at time t = 0\n",
    "poses[:, :, 0][:3, 3] = poses[:, :, 0][:3, 3] * 100\n",
    "\n",
    "\n",
    "error_p = np.zeros(batch_size)\n",
    "error_R = np.zeros(batch_size)\n",
    "\n",
    "# Pass xyz to Open3D.o3d.geometry.PointCloud and visualize\n",
    "\n",
    "source = o3d.geometry.PointCloud()\n",
    "target = o3d.geometry.PointCloud()\n",
    "\n",
    "threshold = 0.02 # thresholf for ICP\n",
    "for i in range(batch_size - 1):\n",
    "    print(i)\n",
    "\n",
    "    \n",
    "    source.points = o3d.utility.Vector3dVector(dataset[i]['pcd1'].numpy())\n",
    "    target.points = o3d.utility.Vector3dVector(dataset[i]['pcd2'].numpy())\n",
    "    \n",
    "    \n",
    "#     trans_init = np.eye(4)\n",
    "    \n",
    "    if i < 10 or i % 10 == 0: # at the beginning I only have ground truth rel pose\n",
    "        trans_init = dataset[i]['rel_pose'].numpy()\n",
    "#         trans_init[:3, 3] = dataset[i]['rel_pose'][:3, 3].numpy() * 100\n",
    "#         trans_init = np.eye(4)\n",
    "        trans_init[0, 3] =  dataset[i]['rel_pose'][0, 3].numpy() * 100\n",
    "        trans_init[1, 3] =  dataset[i]['rel_pose'][1, 3].numpy() * 100\n",
    "\n",
    "    else:\n",
    "        trans_init = deepcopy(reg_p2p.transformation) # assumes model continuity , initialize ICP with prev rel pose\n",
    "#         print(trans_init)\n",
    "#         trans_init[:3, 3] = trans_init[:3, 3] * 100\n",
    "#         trans_init = dataset[i]['rel_pose'].numpy() * 100\n",
    "\n",
    "    \n",
    "        \n",
    "        \n",
    "    \n",
    "    reg_p2p = o3d.pipelines.registration.registration_icp(\n",
    "    source, target, threshold, trans_init,\n",
    "    o3d.pipelines.registration.TransformationEstimationPointToPoint())\n",
    "#     print(reg_p2p.transformation)\n",
    "        \n",
    "    \n",
    "#     source = np.transpose(dataset[i]['pose'])[0:3, 0:3].numpy() @ (dataset[i]['pcd1'].numpy() - dataset[i]['pose'][:3, 3].numpy()).T\n",
    "#     target = np.transpose(dataset[i + 1]['pose'])[0:3, 0:3].numpy() @ (dataset[i]['pcd2'].numpy() - dataset[i + 1]['pose'][:3, 3].numpy()).T\n",
    "    \n",
    "    # initialize\n",
    "#     p_initial = dataset[i]['translation'].numpy() \n",
    "#     R_initial = R.from_quat(dataset[i]['quat']) # Rotation between t+1 and t\n",
    "    \n",
    "    #pose_initial = icp(5, target, source, np.eye(3), p_initial) # get initial rotation\n",
    "    \n",
    "    # Run ICP to get the pose at the next time step t_T_t+1\n",
    "#     rel_pose, _ = icp(iters, target, source, dataset[i]['rel_pose'][0:3, 0:3], dataset[i]['rel_pose'][:3, 3])\n",
    "    \n",
    "#     R_rel = rel_pose[0:3, 0:3] # relative rotation from icp\n",
    "#     p_rel = rel_pose[:3, 3] # relative translation from icp\n",
    "    \n",
    "#     error_p[i] = np.linalg.norm(p_rel - dataset[i]['rel_pose'].numpy()[:3, 3])\n",
    "#     error_R[i] = ax.mat2axangle(np.matmul(R_rel, dataset[i]['rel_pose'][0:3, 0:3]))[1]\n",
    "\n",
    "        \n",
    "#     print(\"Initialization angle to ICP: \", ax.mat2axangle(trans_init[0:3, 0:3])[1])\n",
    "#     print(\"ICP output angle\", ax.mat2axangle(reg_p2p.transformation[0:3, 0:3])[1])\n",
    "    \n",
    "#     print(\"    \")\n",
    "# #     print(\"Initialization angle to ICP: \", ax.mat2axangle(trans_init[0:3, 0:3])[1])\n",
    "#     print(\"Translation initialization to ICP: \", trans_init[:3, 3])\n",
    "    \n",
    "# #     print(\"ICP output angle\", ax.mat2axangle(reg_p2p.transformation[0:3, 0:3])[1])\n",
    "#     print(\"ICP translation output: \", reg_p2p.transformation[:3, 3])\n",
    "    \n",
    "#     print(\"\")\n",
    "    \n",
    "#     if i == 50:\n",
    "    \n",
    "#         break\n",
    "\n",
    "    #estimate pose at the next time step\n",
    "    poses[:, :, i + 1] = np.matmul(reg_p2p.transformation, poses[:, :, i]) # world to body pose\n",
    "#     poses[:, :, i + 1] = np.matmul(poses[:, :, i], reg_p2p.transformation) # world to body pose\n",
    "    \n",
    "    \n",
    "    \n",
    "    #Update\n",
    "#     prev_rel_pose = reg_p2p.transformation # relative pose estimated by ICP\n",
    "    \n",
    "\n",
    "# Invert poses for plotting purposes\n",
    "# for i in range(64):\n",
    "#     poses[:, :, i] = invert_pose(poses[:, :, i])\n",
    "\n",
    "\n",
    "\n",
    "\n",
    "plt.plot(positions[:batch_size,0] * 100, positions[:batch_size,1] * 100)\n",
    "plt.plot(poses[0, -1, :], poses[1, -1, :])\n",
    "plt.show()"
   ]
  },
  {
   "cell_type": "code",
   "execution_count": 112,
   "metadata": {},
   "outputs": [
    {
     "data": {
      "image/png": "[encoded data removed]",
      "text/plain": [
       "<Figure size 432x288 with 1 Axes>"
      ]
     },
     "metadata": {
      "needs_background": "light"
     },
     "output_type": "display_data"
    }
   ],
   "source": [
    "plt.plot(positions[:batch_size,0] * 100, positions[:batch_size,1] * 100)\n",
    "plt.plot(poses[0, -1, :], poses[1, -1, :])\n",
    "plt.show()"
   ]
  },
  {
   "cell_type": "code",
   "execution_count": 93,
   "metadata": {},
   "outputs": [],
   "source": [
    "visualize_icp_result(dataset[0]['pcd1'], dataset[1]['pcd1'], dataset[0]['rel_pose'])"
   ]
  },
  {
   "cell_type": "code",
   "execution_count": 14,
   "metadata": {},
   "outputs": [
    {
     "data": {
      "image/png": "[encoded data removed]",
      "text/plain": [
       "<Figure size 432x288 with 1 Axes>"
      ]
     },
     "metadata": {
      "needs_background": "light"
     },
     "output_type": "display_data"
    }
   ],
   "source": [
    "plt.plot(positions[:batch_size,0] * 100,positions[:batch_size,1] * 100)\n",
    "plt.plot(poses[0, -1, :], poses[1, -1, :])\n",
    "plt.show()"
   ]
  },
  {
   "cell_type": "code",
   "execution_count": 249,
   "metadata": {},
   "outputs": [
    {
     "data": {
      "text/plain": [
       "[<matplotlib.lines.Line2D at 0x7fbcb1378820>]"
      ]
     },
     "execution_count": 249,
     "metadata": {},
     "output_type": "execute_result"
    },
    {
     "data": {
      "image/png": "[encoded data removed]",
      "text/plain": [
       "<Figure size 432x288 with 1 Axes>"
      ]
     },
     "metadata": {
      "needs_background": "light"
     },
     "output_type": "display_data"
    }
   ],
   "source": [
    "plt.plot(poses[0, -1, :], poses[1, -1, :])"
   ]
  },
  {
   "cell_type": "code",
   "execution_count": 159,
   "metadata": {},
   "outputs": [
    {
     "data": {
      "image/png": "[encoded data removed]",
      "text/plain": [
       "<Figure size 432x288 with 1 Axes>"
      ]
     },
     "metadata": {
      "needs_background": "light"
     },
     "output_type": "display_data"
    }
   ],
   "source": [
    "# plt.plot(error_p)\n",
    "plt.plot(error_R)\n",
    "plt.show()"
   ]
  },
  {
   "cell_type": "code",
   "execution_count": 138,
   "metadata": {},
   "outputs": [],
   "source": [
    "visualize_icp_result(dataset[0]['pcd1'], dataset[1]['pcd2'], np.eye(4))"
   ]
  },
  {
   "cell_type": "code",
   "execution_count": 101,
   "metadata": {},
   "outputs": [
    {
     "ename": "ValueError",
     "evalue": "only one element tensors can be converted to Python scalars",
     "output_type": "error",
     "traceback": [
      "\u001b[0;31m---------------------------------------------------------------------------\u001b[0m",
      "\u001b[0;31mValueError\u001b[0m                                Traceback (most recent call last)",
      "\u001b[0;32m<ipython-input-101-ebed71669115>\u001b[0m in \u001b[0;36m<module>\u001b[0;34m\u001b[0m\n\u001b[1;32m      1\u001b[0m \u001b[0;32mimport\u001b[0m \u001b[0mmath\u001b[0m\u001b[0;34m\u001b[0m\u001b[0;34m\u001b[0m\u001b[0m\n\u001b[1;32m      2\u001b[0m \u001b[0;34m\u001b[0m\u001b[0m\n\u001b[0;32m----> 3\u001b[0;31m \u001b[0mprint\u001b[0m\u001b[0;34m(\u001b[0m\u001b[0;34m\"quaternion 0:\"\u001b[0m\u001b[0;34m,\u001b[0m \u001b[0mmath\u001b[0m\u001b[0;34m.\u001b[0m\u001b[0mdegrees\u001b[0m\u001b[0;34m(\u001b[0m\u001b[0;36m2\u001b[0m\u001b[0;34m*\u001b[0m\u001b[0mnp\u001b[0m\u001b[0;34m.\u001b[0m\u001b[0marccos\u001b[0m\u001b[0;34m(\u001b[0m\u001b[0mdataset\u001b[0m\u001b[0;34m[\u001b[0m\u001b[0;36m0\u001b[0m\u001b[0;34m]\u001b[0m\u001b[0;34m[\u001b[0m\u001b[0;34m'quat'\u001b[0m\u001b[0;34m]\u001b[0m\u001b[0;34m[\u001b[0m\u001b[0;34m:\u001b[0m\u001b[0;34m-\u001b[0m\u001b[0;36m1\u001b[0m\u001b[0;34m]\u001b[0m\u001b[0;34m)\u001b[0m\u001b[0;34m)\u001b[0m\u001b[0;34m[\u001b[0m\u001b[0;36m1\u001b[0m\u001b[0;34m]\u001b[0m\u001b[0;34m)\u001b[0m\u001b[0;34m\u001b[0m\u001b[0;34m\u001b[0m\u001b[0m\n\u001b[0m\u001b[1;32m      4\u001b[0m \u001b[0mprint\u001b[0m\u001b[0;34m(\u001b[0m\u001b[0;34m\"translation 0: \"\u001b[0m\u001b[0;34m,\u001b[0m \u001b[0mdataset\u001b[0m\u001b[0;34m[\u001b[0m\u001b[0;36m0\u001b[0m\u001b[0;34m]\u001b[0m\u001b[0;34m[\u001b[0m\u001b[0;34m'translation'\u001b[0m\u001b[0;34m]\u001b[0m\u001b[0;34m)\u001b[0m\u001b[0;34m\u001b[0m\u001b[0;34m\u001b[0m\u001b[0m\n\u001b[1;32m      5\u001b[0m \u001b[0;34m\u001b[0m\u001b[0m\n",
      "\u001b[0;31mValueError\u001b[0m: only one element tensors can be converted to Python scalars"
     ]
    }
   ],
   "source": [
    "# import math\n",
    "\n",
    "# print(\"quaternion 0:\", math.degrees(2*np.arccos(dataset[0]['quat'][:-1]))[1])\n",
    "# print(\"translation 0: \", dataset[0]['translation'])\n",
    "\n",
    "# print(\"quaternion 1:\",  math.degrees(tq.quat2axangle(dataset[1]['quat'])[1]))\n",
    "# print(\"translation 1: \", dataset[1]['translation'])\n",
    "\n",
    "\n",
    "# print(\"quaternion 2:\", math.degrees(tq.quat2axangle(dataset[2]['quat'])[1]))\n",
    "# print(\"translation 2: \", dataset[2]['translation'])\n",
    "\n",
    "\n",
    "# print(\"quaternion 3:\", math.degrees(tq.quat2axangle(dataset[3]['quat'])[1]))\n",
    "# print(\"translation 3: \", dataset[3]['translation'])"
   ]
  },
  {
   "cell_type": "code",
   "execution_count": 77,
   "metadata": {},
   "outputs": [
    {
     "data": {
      "text/plain": [
       "1.3189690420760594"
      ]
     },
     "execution_count": 77,
     "metadata": {},
     "output_type": "execute_result"
    }
   ],
   "source": [
    "math.degrees(ax.mat2axangle(dataset[3]['rel_pose'][0:3, 0:3])[1])"
   ]
  },
  {
   "cell_type": "code",
   "execution_count": 96,
   "metadata": {},
   "outputs": [
    {
     "data": {
      "text/plain": [
       "(array([ 4.14964546e-07, -5.86314060e-07,  1.00000000e+00]),\n",
       " -0.023020339748918085)"
      ]
     },
     "execution_count": 96,
     "metadata": {},
     "output_type": "execute_result"
    }
   ],
   "source": []
  },
  {
   "cell_type": "code",
   "execution_count": 52,
   "metadata": {},
   "outputs": [
    {
     "data": {
      "text/plain": [
       "tensor([[ 5.2992e-01, -8.4805e-01,  7.3725e-08,  1.3208e+00],\n",
       "        [ 7.3725e-08, -5.7431e-08, -1.0000e+00,  5.0105e-01],\n",
       "        [ 8.4805e-01,  5.2992e-01,  2.4302e-08, -3.4551e+00],\n",
       "        [ 0.0000e+00,  0.0000e+00,  0.0000e+00,  1.0000e+00]])"
      ]
     },
     "execution_count": 52,
     "metadata": {},
     "output_type": "execute_result"
    }
   ],
   "source": [
    "print(dataset[1]['quat'])\n",
    "print(dataset[1]['translation'])"
   ]
  },
  {
   "cell_type": "code",
   "execution_count": null,
   "metadata": {},
   "outputs": [],
   "source": []
  },
  {
   "cell_type": "markdown",
   "metadata": {},
   "source": []
  },
  {
   "cell_type": "code",
   "execution_count": null,
   "metadata": {},
   "outputs": [],
   "source": [
    "im1 = cv2.imread('sample/rgb/0001/clear/A_0003_L.png')\n",
    "im2 = cv2.imread('sample/rgb/0001/clear/A_0004_L.png')\n",
    "\n",
    "\n",
    "\n",
    "plt.imshow(im1, cmap = 'gray')"
   ]
  },
  {
   "cell_type": "code",
   "execution_count": null,
   "metadata": {},
   "outputs": [],
   "source": [
    "plt.imshow(im2, cmap = 'gray')"
   ]
  },
  {
   "cell_type": "code",
   "execution_count": null,
   "metadata": {},
   "outputs": [],
   "source": []
  }
 ],
 "metadata": {
  "kernelspec": {
   "display_name": "Python 3 (ipykernel)",
   "language": "python",
   "name": "python3"
  },
  "language_info": {
   "codemirror_mode": {
    "name": "ipython",
    "version": 3
   },
   "file_extension": ".py",
   "mimetype": "text/x-python",
   "name": "python",
   "nbconvert_exporter": "python",
   "pygments_lexer": "ipython3",
   "version": "3.9.5"
  }
 },
 "nbformat": 4,
 "nbformat_minor": 4
}
