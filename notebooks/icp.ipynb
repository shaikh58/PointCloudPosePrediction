{
 "cells": [
  {
   "cell_type": "code",
   "execution_count": 9,
   "metadata": {},
   "outputs": [
    {
     "ename": "ImportError",
     "evalue": "cannot import name 'TypeAliasType' from 'typing_extensions' (/opt/conda/lib/python3.9/site-packages/typing_extensions.py)",
     "output_type": "error",
     "traceback": [
      "\u001b[0;31m---------------------------------------------------------------------------\u001b[0m",
      "\u001b[0;31mImportError\u001b[0m                               Traceback (most recent call last)",
      "\u001b[0;32m/tmp/ipykernel_3601/4234752103.py\u001b[0m in \u001b[0;36m<module>\u001b[0;34m\u001b[0m\n\u001b[1;32m     24\u001b[0m \u001b[0;32mfrom\u001b[0m \u001b[0mtorch\u001b[0m\u001b[0;34m.\u001b[0m\u001b[0mutils\u001b[0m\u001b[0;34m.\u001b[0m\u001b[0mdata\u001b[0m \u001b[0;32mimport\u001b[0m \u001b[0mDataset\u001b[0m\u001b[0;34m,\u001b[0m \u001b[0mDataLoader\u001b[0m\u001b[0;34m\u001b[0m\u001b[0;34m\u001b[0m\u001b[0m\n\u001b[1;32m     25\u001b[0m \u001b[0;32mimport\u001b[0m \u001b[0mtorchvision\u001b[0m\u001b[0;34m.\u001b[0m\u001b[0mtransforms\u001b[0m \u001b[0;32mas\u001b[0m \u001b[0mtransforms\u001b[0m\u001b[0;34m\u001b[0m\u001b[0;34m\u001b[0m\u001b[0m\n\u001b[0;32m---> 26\u001b[0;31m \u001b[0;32mimport\u001b[0m \u001b[0mdgl\u001b[0m\u001b[0;34m.\u001b[0m\u001b[0mgeometry\u001b[0m\u001b[0;34m\u001b[0m\u001b[0;34m\u001b[0m\u001b[0m\n\u001b[0m\u001b[1;32m     27\u001b[0m \u001b[0;32mimport\u001b[0m \u001b[0mnumpy\u001b[0m \u001b[0;32mas\u001b[0m \u001b[0mnp\u001b[0m\u001b[0;34m\u001b[0m\u001b[0;34m\u001b[0m\u001b[0m\n\u001b[1;32m     28\u001b[0m \u001b[0;31m# from .utils import read_canonical_model, load_pc, visualize_icp_result\u001b[0m\u001b[0;34m\u001b[0m\u001b[0;34m\u001b[0m\u001b[0;34m\u001b[0m\u001b[0m\n",
      "\u001b[0;32m~/.local/lib/python3.9/site-packages/dgl/__init__.py\u001b[0m in \u001b[0;36m<module>\u001b[0;34m\u001b[0m\n\u001b[1;32m     14\u001b[0m \u001b[0;32mfrom\u001b[0m \u001b[0;34m.\u001b[0m\u001b[0mbackend\u001b[0m \u001b[0;32mimport\u001b[0m \u001b[0mbackend_name\u001b[0m\u001b[0;34m,\u001b[0m \u001b[0mload_backend\u001b[0m  \u001b[0;31m# usort: skip\u001b[0m\u001b[0;34m\u001b[0m\u001b[0;34m\u001b[0m\u001b[0m\n\u001b[1;32m     15\u001b[0m \u001b[0;34m\u001b[0m\u001b[0m\n\u001b[0;32m---> 16\u001b[0;31m from . import (\n\u001b[0m\u001b[1;32m     17\u001b[0m     \u001b[0mcontainer\u001b[0m\u001b[0;34m,\u001b[0m\u001b[0;34m\u001b[0m\u001b[0;34m\u001b[0m\u001b[0m\n\u001b[1;32m     18\u001b[0m     \u001b[0mcuda\u001b[0m\u001b[0;34m,\u001b[0m\u001b[0;34m\u001b[0m\u001b[0;34m\u001b[0m\u001b[0m\n",
      "\u001b[0;32m~/.local/lib/python3.9/site-packages/dgl/dataloading/__init__.py\u001b[0m in \u001b[0;36m<module>\u001b[0;34m\u001b[0m\n\u001b[1;32m     11\u001b[0m \u001b[0;32mif\u001b[0m \u001b[0mF\u001b[0m\u001b[0;34m.\u001b[0m\u001b[0mget_preferred_backend\u001b[0m\u001b[0;34m(\u001b[0m\u001b[0;34m)\u001b[0m \u001b[0;34m==\u001b[0m \u001b[0;34m\"pytorch\"\u001b[0m\u001b[0;34m:\u001b[0m\u001b[0;34m\u001b[0m\u001b[0;34m\u001b[0m\u001b[0m\n\u001b[1;32m     12\u001b[0m     \u001b[0;32mfrom\u001b[0m \u001b[0;34m.\u001b[0m\u001b[0mspot_target\u001b[0m \u001b[0;32mimport\u001b[0m \u001b[0;34m*\u001b[0m\u001b[0;34m\u001b[0m\u001b[0;34m\u001b[0m\u001b[0m\n\u001b[0;32m---> 13\u001b[0;31m     \u001b[0;32mfrom\u001b[0m \u001b[0;34m.\u001b[0m\u001b[0mdataloader\u001b[0m \u001b[0;32mimport\u001b[0m \u001b[0;34m*\u001b[0m\u001b[0;34m\u001b[0m\u001b[0;34m\u001b[0m\u001b[0m\n\u001b[0m\u001b[1;32m     14\u001b[0m     \u001b[0;32mfrom\u001b[0m \u001b[0;34m.\u001b[0m\u001b[0mdist_dataloader\u001b[0m \u001b[0;32mimport\u001b[0m \u001b[0;34m*\u001b[0m\u001b[0;34m\u001b[0m\u001b[0;34m\u001b[0m\u001b[0m\n",
      "\u001b[0;32m~/.local/lib/python3.9/site-packages/dgl/dataloading/dataloader.py\u001b[0m in \u001b[0;36m<module>\u001b[0;34m\u001b[0m\n\u001b[1;32m     25\u001b[0m \u001b[0;32mfrom\u001b[0m \u001b[0;34m.\u001b[0m\u001b[0;34m.\u001b[0m\u001b[0mbatch\u001b[0m \u001b[0;32mimport\u001b[0m \u001b[0mbatch\u001b[0m \u001b[0;32mas\u001b[0m \u001b[0mbatch_graphs\u001b[0m\u001b[0;34m\u001b[0m\u001b[0;34m\u001b[0m\u001b[0m\n\u001b[1;32m     26\u001b[0m \u001b[0;32mfrom\u001b[0m \u001b[0;34m.\u001b[0m\u001b[0;34m.\u001b[0m\u001b[0mcuda\u001b[0m \u001b[0;32mimport\u001b[0m \u001b[0mGPUCache\u001b[0m\u001b[0;34m\u001b[0m\u001b[0;34m\u001b[0m\u001b[0m\n\u001b[0;32m---> 27\u001b[0;31m \u001b[0;32mfrom\u001b[0m \u001b[0;34m.\u001b[0m\u001b[0;34m.\u001b[0m\u001b[0mdistributed\u001b[0m \u001b[0;32mimport\u001b[0m \u001b[0mDistGraph\u001b[0m\u001b[0;34m\u001b[0m\u001b[0;34m\u001b[0m\u001b[0m\n\u001b[0m\u001b[1;32m     28\u001b[0m \u001b[0;32mfrom\u001b[0m \u001b[0;34m.\u001b[0m\u001b[0;34m.\u001b[0m\u001b[0mframe\u001b[0m \u001b[0;32mimport\u001b[0m \u001b[0mLazyFeature\u001b[0m\u001b[0;34m\u001b[0m\u001b[0;34m\u001b[0m\u001b[0m\n\u001b[1;32m     29\u001b[0m \u001b[0;32mfrom\u001b[0m \u001b[0;34m.\u001b[0m\u001b[0;34m.\u001b[0m\u001b[0mheterograph\u001b[0m \u001b[0;32mimport\u001b[0m \u001b[0mDGLGraph\u001b[0m\u001b[0;34m\u001b[0m\u001b[0;34m\u001b[0m\u001b[0m\n",
      "\u001b[0;32m~/.local/lib/python3.9/site-packages/dgl/distributed/__init__.py\u001b[0m in \u001b[0;36m<module>\u001b[0;34m\u001b[0m\n\u001b[1;32m      3\u001b[0m \u001b[0;32mfrom\u001b[0m \u001b[0;34m.\u001b[0m\u001b[0mdist_context\u001b[0m \u001b[0;32mimport\u001b[0m \u001b[0mexit_client\u001b[0m\u001b[0;34m,\u001b[0m \u001b[0minitialize\u001b[0m\u001b[0;34m\u001b[0m\u001b[0;34m\u001b[0m\u001b[0m\n\u001b[1;32m      4\u001b[0m \u001b[0;32mfrom\u001b[0m \u001b[0;34m.\u001b[0m\u001b[0mdist_dataloader\u001b[0m \u001b[0;32mimport\u001b[0m \u001b[0mDistDataLoader\u001b[0m\u001b[0;34m\u001b[0m\u001b[0;34m\u001b[0m\u001b[0m\n\u001b[0;32m----> 5\u001b[0;31m \u001b[0;32mfrom\u001b[0m \u001b[0;34m.\u001b[0m\u001b[0mdist_graph\u001b[0m \u001b[0;32mimport\u001b[0m \u001b[0mDistGraph\u001b[0m\u001b[0;34m,\u001b[0m \u001b[0mDistGraphServer\u001b[0m\u001b[0;34m,\u001b[0m \u001b[0medge_split\u001b[0m\u001b[0;34m,\u001b[0m \u001b[0mnode_split\u001b[0m\u001b[0;34m\u001b[0m\u001b[0;34m\u001b[0m\u001b[0m\n\u001b[0m\u001b[1;32m      6\u001b[0m \u001b[0;32mfrom\u001b[0m \u001b[0;34m.\u001b[0m\u001b[0mdist_tensor\u001b[0m \u001b[0;32mimport\u001b[0m \u001b[0mDistTensor\u001b[0m\u001b[0;34m\u001b[0m\u001b[0;34m\u001b[0m\u001b[0m\n\u001b[1;32m      7\u001b[0m \u001b[0;32mfrom\u001b[0m \u001b[0;34m.\u001b[0m\u001b[0mgraph_partition_book\u001b[0m \u001b[0;32mimport\u001b[0m \u001b[0mGraphPartitionBook\u001b[0m\u001b[0;34m,\u001b[0m \u001b[0mPartitionPolicy\u001b[0m\u001b[0;34m\u001b[0m\u001b[0;34m\u001b[0m\u001b[0m\n",
      "\u001b[0;32m~/.local/lib/python3.9/site-packages/dgl/distributed/dist_graph.py\u001b[0m in \u001b[0;36m<module>\u001b[0;34m\u001b[0m\n\u001b[1;32m      9\u001b[0m \u001b[0;32mimport\u001b[0m \u001b[0mnumpy\u001b[0m \u001b[0;32mas\u001b[0m \u001b[0mnp\u001b[0m\u001b[0;34m\u001b[0m\u001b[0;34m\u001b[0m\u001b[0m\n\u001b[1;32m     10\u001b[0m \u001b[0;34m\u001b[0m\u001b[0m\n\u001b[0;32m---> 11\u001b[0;31m \u001b[0;32mfrom\u001b[0m \u001b[0;34m.\u001b[0m\u001b[0;34m.\u001b[0m \u001b[0;32mimport\u001b[0m \u001b[0mbackend\u001b[0m \u001b[0;32mas\u001b[0m \u001b[0mF\u001b[0m\u001b[0;34m,\u001b[0m \u001b[0mgraphbolt\u001b[0m \u001b[0;32mas\u001b[0m \u001b[0mgb\u001b[0m\u001b[0;34m,\u001b[0m \u001b[0mheterograph_index\u001b[0m\u001b[0;34m\u001b[0m\u001b[0;34m\u001b[0m\u001b[0m\n\u001b[0m\u001b[1;32m     12\u001b[0m \u001b[0;32mfrom\u001b[0m \u001b[0;34m.\u001b[0m\u001b[0;34m.\u001b[0m\u001b[0m_ffi\u001b[0m\u001b[0;34m.\u001b[0m\u001b[0mndarray\u001b[0m \u001b[0;32mimport\u001b[0m \u001b[0mempty_shared_mem\u001b[0m\u001b[0;34m\u001b[0m\u001b[0;34m\u001b[0m\u001b[0m\n\u001b[1;32m     13\u001b[0m \u001b[0;32mfrom\u001b[0m \u001b[0;34m.\u001b[0m\u001b[0;34m.\u001b[0m\u001b[0mbase\u001b[0m \u001b[0;32mimport\u001b[0m \u001b[0mALL\u001b[0m\u001b[0;34m,\u001b[0m \u001b[0mDGLError\u001b[0m\u001b[0;34m,\u001b[0m \u001b[0mEID\u001b[0m\u001b[0;34m,\u001b[0m \u001b[0mETYPE\u001b[0m\u001b[0;34m,\u001b[0m \u001b[0mis_all\u001b[0m\u001b[0;34m,\u001b[0m \u001b[0mNID\u001b[0m\u001b[0;34m\u001b[0m\u001b[0;34m\u001b[0m\u001b[0m\n",
      "\u001b[0;32m~/.local/lib/python3.9/site-packages/dgl/graphbolt/__init__.py\u001b[0m in \u001b[0;36m<module>\u001b[0;34m\u001b[0m\n\u001b[1;32m      8\u001b[0m \u001b[0;32mfrom\u001b[0m \u001b[0;34m.\u001b[0m\u001b[0mbase\u001b[0m \u001b[0;32mimport\u001b[0m \u001b[0;34m*\u001b[0m\u001b[0;34m\u001b[0m\u001b[0;34m\u001b[0m\u001b[0m\n\u001b[1;32m      9\u001b[0m \u001b[0;32mfrom\u001b[0m \u001b[0;34m.\u001b[0m\u001b[0mminibatch\u001b[0m \u001b[0;32mimport\u001b[0m \u001b[0;34m*\u001b[0m\u001b[0;34m\u001b[0m\u001b[0;34m\u001b[0m\u001b[0m\n\u001b[0;32m---> 10\u001b[0;31m \u001b[0;32mfrom\u001b[0m \u001b[0;34m.\u001b[0m\u001b[0mdataloader\u001b[0m \u001b[0;32mimport\u001b[0m \u001b[0;34m*\u001b[0m\u001b[0;34m\u001b[0m\u001b[0;34m\u001b[0m\u001b[0m\n\u001b[0m\u001b[1;32m     11\u001b[0m \u001b[0;32mfrom\u001b[0m \u001b[0;34m.\u001b[0m\u001b[0mdataset\u001b[0m \u001b[0;32mimport\u001b[0m \u001b[0;34m*\u001b[0m\u001b[0;34m\u001b[0m\u001b[0;34m\u001b[0m\u001b[0m\n\u001b[1;32m     12\u001b[0m \u001b[0;32mfrom\u001b[0m \u001b[0;34m.\u001b[0m\u001b[0mfeature_fetcher\u001b[0m \u001b[0;32mimport\u001b[0m \u001b[0;34m*\u001b[0m\u001b[0;34m\u001b[0m\u001b[0;34m\u001b[0m\u001b[0m\n",
      "\u001b[0;32m~/.local/lib/python3.9/site-packages/dgl/graphbolt/dataloader.py\u001b[0m in \u001b[0;36m<module>\u001b[0;34m\u001b[0m\n\u001b[1;32m     10\u001b[0m \u001b[0;32mfrom\u001b[0m \u001b[0;34m.\u001b[0m\u001b[0mbase\u001b[0m \u001b[0;32mimport\u001b[0m \u001b[0mCopyTo\u001b[0m\u001b[0;34m\u001b[0m\u001b[0;34m\u001b[0m\u001b[0m\n\u001b[1;32m     11\u001b[0m \u001b[0;32mfrom\u001b[0m \u001b[0;34m.\u001b[0m\u001b[0mfeature_fetcher\u001b[0m \u001b[0;32mimport\u001b[0m \u001b[0mFeatureFetcher\u001b[0m\u001b[0;34m\u001b[0m\u001b[0;34m\u001b[0m\u001b[0m\n\u001b[0;32m---> 12\u001b[0;31m \u001b[0;32mfrom\u001b[0m \u001b[0;34m.\u001b[0m\u001b[0mimpl\u001b[0m\u001b[0;34m.\u001b[0m\u001b[0mneighbor_sampler\u001b[0m \u001b[0;32mimport\u001b[0m \u001b[0mSamplePerLayer\u001b[0m\u001b[0;34m\u001b[0m\u001b[0;34m\u001b[0m\u001b[0m\n\u001b[0m\u001b[1;32m     13\u001b[0m \u001b[0;34m\u001b[0m\u001b[0m\n\u001b[1;32m     14\u001b[0m \u001b[0;32mfrom\u001b[0m \u001b[0;34m.\u001b[0m\u001b[0minternal\u001b[0m \u001b[0;32mimport\u001b[0m \u001b[0mdatapipe_graph_to_adjlist\u001b[0m\u001b[0;34m\u001b[0m\u001b[0;34m\u001b[0m\u001b[0m\n",
      "\u001b[0;32m~/.local/lib/python3.9/site-packages/dgl/graphbolt/impl/__init__.py\u001b[0m in \u001b[0;36m<module>\u001b[0;34m\u001b[0m\n\u001b[1;32m      5\u001b[0m \u001b[0;32mfrom\u001b[0m \u001b[0;34m.\u001b[0m\u001b[0mgpu_cached_feature\u001b[0m \u001b[0;32mimport\u001b[0m \u001b[0;34m*\u001b[0m\u001b[0;34m\u001b[0m\u001b[0;34m\u001b[0m\u001b[0m\n\u001b[1;32m      6\u001b[0m \u001b[0;32mfrom\u001b[0m \u001b[0;34m.\u001b[0m\u001b[0min_subgraph_sampler\u001b[0m \u001b[0;32mimport\u001b[0m \u001b[0;34m*\u001b[0m\u001b[0;34m\u001b[0m\u001b[0;34m\u001b[0m\u001b[0m\n\u001b[0;32m----> 7\u001b[0;31m \u001b[0;32mfrom\u001b[0m \u001b[0;34m.\u001b[0m\u001b[0mlegacy_dataset\u001b[0m \u001b[0;32mimport\u001b[0m \u001b[0;34m*\u001b[0m\u001b[0;34m\u001b[0m\u001b[0;34m\u001b[0m\u001b[0m\n\u001b[0m\u001b[1;32m      8\u001b[0m \u001b[0;32mfrom\u001b[0m \u001b[0;34m.\u001b[0m\u001b[0mneighbor_sampler\u001b[0m \u001b[0;32mimport\u001b[0m \u001b[0;34m*\u001b[0m\u001b[0;34m\u001b[0m\u001b[0;34m\u001b[0m\u001b[0m\n\u001b[1;32m      9\u001b[0m \u001b[0;32mfrom\u001b[0m \u001b[0;34m.\u001b[0m\u001b[0mtemporal_neighbor_sampler\u001b[0m \u001b[0;32mimport\u001b[0m \u001b[0;34m*\u001b[0m\u001b[0;34m\u001b[0m\u001b[0;34m\u001b[0m\u001b[0m\n",
      "\u001b[0;32m~/.local/lib/python3.9/site-packages/dgl/graphbolt/impl/legacy_dataset.py\u001b[0m in \u001b[0;36m<module>\u001b[0;34m\u001b[0m\n\u001b[1;32m      9\u001b[0m \u001b[0;32mfrom\u001b[0m \u001b[0;34m.\u001b[0m\u001b[0mbasic_feature_store\u001b[0m \u001b[0;32mimport\u001b[0m \u001b[0mBasicFeatureStore\u001b[0m\u001b[0;34m\u001b[0m\u001b[0;34m\u001b[0m\u001b[0m\n\u001b[1;32m     10\u001b[0m \u001b[0;32mfrom\u001b[0m \u001b[0;34m.\u001b[0m\u001b[0mfused_csc_sampling_graph\u001b[0m \u001b[0;32mimport\u001b[0m \u001b[0mfrom_dglgraph\u001b[0m\u001b[0;34m\u001b[0m\u001b[0;34m\u001b[0m\u001b[0m\n\u001b[0;32m---> 11\u001b[0;31m \u001b[0;32mfrom\u001b[0m \u001b[0;34m.\u001b[0m\u001b[0mondisk_dataset\u001b[0m \u001b[0;32mimport\u001b[0m \u001b[0mOnDiskTask\u001b[0m\u001b[0;34m\u001b[0m\u001b[0;34m\u001b[0m\u001b[0m\n\u001b[0m\u001b[1;32m     12\u001b[0m \u001b[0;32mfrom\u001b[0m \u001b[0;34m.\u001b[0m\u001b[0mtorch_based_feature_store\u001b[0m \u001b[0;32mimport\u001b[0m \u001b[0mTorchBasedFeature\u001b[0m\u001b[0;34m\u001b[0m\u001b[0;34m\u001b[0m\u001b[0m\n\u001b[1;32m     13\u001b[0m \u001b[0;34m\u001b[0m\u001b[0m\n",
      "\u001b[0;32m~/.local/lib/python3.9/site-packages/dgl/graphbolt/impl/ondisk_dataset.py\u001b[0m in \u001b[0;36m<module>\u001b[0;34m\u001b[0m\n\u001b[1;32m     32\u001b[0m     \u001b[0mFusedCSCSamplingGraph\u001b[0m\u001b[0;34m,\u001b[0m\u001b[0;34m\u001b[0m\u001b[0;34m\u001b[0m\u001b[0m\n\u001b[1;32m     33\u001b[0m )\n\u001b[0;32m---> 34\u001b[0;31m from .ondisk_metadata import (\n\u001b[0m\u001b[1;32m     35\u001b[0m     \u001b[0mOnDiskGraphTopology\u001b[0m\u001b[0;34m,\u001b[0m\u001b[0;34m\u001b[0m\u001b[0;34m\u001b[0m\u001b[0m\n\u001b[1;32m     36\u001b[0m     \u001b[0mOnDiskMetaData\u001b[0m\u001b[0;34m,\u001b[0m\u001b[0;34m\u001b[0m\u001b[0;34m\u001b[0m\u001b[0m\n",
      "\u001b[0;32m~/.local/lib/python3.9/site-packages/dgl/graphbolt/impl/ondisk_metadata.py\u001b[0m in \u001b[0;36m<module>\u001b[0;34m\u001b[0m\n\u001b[1;32m     21\u001b[0m \u001b[0;34m\u001b[0m\u001b[0m\n\u001b[1;32m     22\u001b[0m \u001b[0;34m\u001b[0m\u001b[0m\n\u001b[0;32m---> 23\u001b[0;31m \u001b[0;32mclass\u001b[0m \u001b[0mExtraMetaData\u001b[0m\u001b[0;34m(\u001b[0m\u001b[0mpydantic\u001b[0m\u001b[0;34m.\u001b[0m\u001b[0mBaseModel\u001b[0m\u001b[0;34m,\u001b[0m \u001b[0mextra\u001b[0m\u001b[0;34m=\u001b[0m\u001b[0;34m\"allow\"\u001b[0m\u001b[0;34m)\u001b[0m\u001b[0;34m:\u001b[0m\u001b[0;34m\u001b[0m\u001b[0;34m\u001b[0m\u001b[0m\n\u001b[0m\u001b[1;32m     24\u001b[0m     \u001b[0;34m\"\"\"Group extra fields into metadata. Internal use only.\"\"\"\u001b[0m\u001b[0;34m\u001b[0m\u001b[0;34m\u001b[0m\u001b[0m\n\u001b[1;32m     25\u001b[0m \u001b[0;34m\u001b[0m\u001b[0m\n",
      "\u001b[0;32m~/.local/lib/python3.9/site-packages/pydantic/__init__.py\u001b[0m in \u001b[0;36m__getattr__\u001b[0;34m(attr_name)\u001b[0m\n\u001b[1;32m    393\u001b[0m         \u001b[0;32mreturn\u001b[0m \u001b[0mimport_module\u001b[0m\u001b[0;34m(\u001b[0m\u001b[0;34mf'.{attr_name}'\u001b[0m\u001b[0;34m,\u001b[0m \u001b[0mpackage\u001b[0m\u001b[0;34m=\u001b[0m\u001b[0mpackage\u001b[0m\u001b[0;34m)\u001b[0m\u001b[0;34m\u001b[0m\u001b[0;34m\u001b[0m\u001b[0m\n\u001b[1;32m    394\u001b[0m     \u001b[0;32melse\u001b[0m\u001b[0;34m:\u001b[0m\u001b[0;34m\u001b[0m\u001b[0;34m\u001b[0m\u001b[0m\n\u001b[0;32m--> 395\u001b[0;31m         \u001b[0mmodule\u001b[0m \u001b[0;34m=\u001b[0m \u001b[0mimport_module\u001b[0m\u001b[0;34m(\u001b[0m\u001b[0mmodule_name\u001b[0m\u001b[0;34m,\u001b[0m \u001b[0mpackage\u001b[0m\u001b[0;34m=\u001b[0m\u001b[0mpackage\u001b[0m\u001b[0;34m)\u001b[0m\u001b[0;34m\u001b[0m\u001b[0;34m\u001b[0m\u001b[0m\n\u001b[0m\u001b[1;32m    396\u001b[0m         \u001b[0;32mreturn\u001b[0m \u001b[0mgetattr\u001b[0m\u001b[0;34m(\u001b[0m\u001b[0mmodule\u001b[0m\u001b[0;34m,\u001b[0m \u001b[0mattr_name\u001b[0m\u001b[0;34m)\u001b[0m\u001b[0;34m\u001b[0m\u001b[0;34m\u001b[0m\u001b[0m\n\u001b[1;32m    397\u001b[0m \u001b[0;34m\u001b[0m\u001b[0m\n",
      "\u001b[0;32m/opt/conda/lib/python3.9/importlib/__init__.py\u001b[0m in \u001b[0;36mimport_module\u001b[0;34m(name, package)\u001b[0m\n\u001b[1;32m    125\u001b[0m                 \u001b[0;32mbreak\u001b[0m\u001b[0;34m\u001b[0m\u001b[0;34m\u001b[0m\u001b[0m\n\u001b[1;32m    126\u001b[0m             \u001b[0mlevel\u001b[0m \u001b[0;34m+=\u001b[0m \u001b[0;36m1\u001b[0m\u001b[0;34m\u001b[0m\u001b[0;34m\u001b[0m\u001b[0m\n\u001b[0;32m--> 127\u001b[0;31m     \u001b[0;32mreturn\u001b[0m \u001b[0m_bootstrap\u001b[0m\u001b[0;34m.\u001b[0m\u001b[0m_gcd_import\u001b[0m\u001b[0;34m(\u001b[0m\u001b[0mname\u001b[0m\u001b[0;34m[\u001b[0m\u001b[0mlevel\u001b[0m\u001b[0;34m:\u001b[0m\u001b[0;34m]\u001b[0m\u001b[0;34m,\u001b[0m \u001b[0mpackage\u001b[0m\u001b[0;34m,\u001b[0m \u001b[0mlevel\u001b[0m\u001b[0;34m)\u001b[0m\u001b[0;34m\u001b[0m\u001b[0;34m\u001b[0m\u001b[0m\n\u001b[0m\u001b[1;32m    128\u001b[0m \u001b[0;34m\u001b[0m\u001b[0m\n\u001b[1;32m    129\u001b[0m \u001b[0;34m\u001b[0m\u001b[0m\n",
      "\u001b[0;32m~/.local/lib/python3.9/site-packages/pydantic/main.py\u001b[0m in \u001b[0;36m<module>\u001b[0;34m\u001b[0m\n\u001b[1;32m     15\u001b[0m \u001b[0;32mfrom\u001b[0m \u001b[0mtyping_extensions\u001b[0m \u001b[0;32mimport\u001b[0m \u001b[0mTypeAlias\u001b[0m\u001b[0;34m\u001b[0m\u001b[0;34m\u001b[0m\u001b[0m\n\u001b[1;32m     16\u001b[0m \u001b[0;34m\u001b[0m\u001b[0m\n\u001b[0;32m---> 17\u001b[0;31m from ._internal import (\n\u001b[0m\u001b[1;32m     18\u001b[0m     \u001b[0m_config\u001b[0m\u001b[0;34m,\u001b[0m\u001b[0;34m\u001b[0m\u001b[0;34m\u001b[0m\u001b[0m\n\u001b[1;32m     19\u001b[0m     \u001b[0m_decorators\u001b[0m\u001b[0;34m,\u001b[0m\u001b[0;34m\u001b[0m\u001b[0;34m\u001b[0m\u001b[0m\n",
      "\u001b[0;32m~/.local/lib/python3.9/site-packages/pydantic/_internal/_decorators.py\u001b[0m in \u001b[0;36m<module>\u001b[0;34m\u001b[0m\n\u001b[1;32m     13\u001b[0m \u001b[0;34m\u001b[0m\u001b[0m\n\u001b[1;32m     14\u001b[0m \u001b[0;32mfrom\u001b[0m \u001b[0;34m.\u001b[0m\u001b[0;34m.\u001b[0m\u001b[0merrors\u001b[0m \u001b[0;32mimport\u001b[0m \u001b[0mPydanticUserError\u001b[0m\u001b[0;34m\u001b[0m\u001b[0;34m\u001b[0m\u001b[0m\n\u001b[0;32m---> 15\u001b[0;31m \u001b[0;32mfrom\u001b[0m \u001b[0;34m.\u001b[0m\u001b[0m_core_utils\u001b[0m \u001b[0;32mimport\u001b[0m \u001b[0mget_type_ref\u001b[0m\u001b[0;34m\u001b[0m\u001b[0;34m\u001b[0m\u001b[0m\n\u001b[0m\u001b[1;32m     16\u001b[0m \u001b[0;32mfrom\u001b[0m \u001b[0;34m.\u001b[0m\u001b[0m_internal_dataclass\u001b[0m \u001b[0;32mimport\u001b[0m \u001b[0mslots_true\u001b[0m\u001b[0;34m\u001b[0m\u001b[0;34m\u001b[0m\u001b[0m\n\u001b[1;32m     17\u001b[0m \u001b[0;32mfrom\u001b[0m \u001b[0;34m.\u001b[0m\u001b[0m_typing_extra\u001b[0m \u001b[0;32mimport\u001b[0m \u001b[0mget_function_type_hints\u001b[0m\u001b[0;34m\u001b[0m\u001b[0;34m\u001b[0m\u001b[0m\n",
      "\u001b[0;32m~/.local/lib/python3.9/site-packages/pydantic/_internal/_core_utils.py\u001b[0m in \u001b[0;36m<module>\u001b[0;34m\u001b[0m\n\u001b[1;32m     13\u001b[0m \u001b[0;32mfrom\u001b[0m \u001b[0mpydantic_core\u001b[0m \u001b[0;32mimport\u001b[0m \u001b[0mCoreSchema\u001b[0m\u001b[0;34m,\u001b[0m \u001b[0mcore_schema\u001b[0m\u001b[0;34m\u001b[0m\u001b[0;34m\u001b[0m\u001b[0m\n\u001b[1;32m     14\u001b[0m \u001b[0;32mfrom\u001b[0m \u001b[0mpydantic_core\u001b[0m \u001b[0;32mimport\u001b[0m \u001b[0mvalidate_core_schema\u001b[0m \u001b[0;32mas\u001b[0m \u001b[0m_validate_core_schema\u001b[0m\u001b[0;34m\u001b[0m\u001b[0;34m\u001b[0m\u001b[0m\n\u001b[0;32m---> 15\u001b[0;31m \u001b[0;32mfrom\u001b[0m \u001b[0mtyping_extensions\u001b[0m \u001b[0;32mimport\u001b[0m \u001b[0mTypeAliasType\u001b[0m\u001b[0;34m,\u001b[0m \u001b[0mTypeGuard\u001b[0m\u001b[0;34m,\u001b[0m \u001b[0mget_args\u001b[0m\u001b[0;34m,\u001b[0m \u001b[0mget_origin\u001b[0m\u001b[0;34m\u001b[0m\u001b[0;34m\u001b[0m\u001b[0m\n\u001b[0m\u001b[1;32m     16\u001b[0m \u001b[0;34m\u001b[0m\u001b[0m\n\u001b[1;32m     17\u001b[0m \u001b[0;32mfrom\u001b[0m \u001b[0;34m.\u001b[0m \u001b[0;32mimport\u001b[0m \u001b[0m_repr\u001b[0m\u001b[0;34m\u001b[0m\u001b[0;34m\u001b[0m\u001b[0m\n",
      "\u001b[0;31mImportError\u001b[0m: cannot import name 'TypeAliasType' from 'typing_extensions' (/opt/conda/lib/python3.9/site-packages/typing_extensions.py)"
     ]
    }
   ],
   "source": [
    "#from utils import read_canonical_model, load_pc\n",
    "# import autograd.numpy as np\n",
    "#import utils\n",
    "import numpy as np\n",
    "from copy import deepcopy\n",
    "import os\n",
    "os.chdir(\"/home/mushaikh/private/PointCloudPosePrediction\")\n",
    "from utils.utils import invert_pose\n",
    "import importlib\n",
    "import yaml\n",
    "from sklearn.neighbors import NearestNeighbors\n",
    "from scipy.spatial import KDTree\n",
    "import transforms3d as t3d\n",
    "from transforms3d.quaternions import mat2quat\n",
    "import transforms3d.quaternions as tq\n",
    "import transforms3d.axangles as ax\n",
    "# from autograd import grad\n",
    "from numpy.linalg import norm\n",
    "from scipy.spatial.transform import Rotation as R\n",
    "import torch\n",
    "import torch.nn as nn\n",
    "from torch.autograd import Variable\n",
    "import torch.nn.functional as F\n",
    "from torch.utils.data import Dataset, DataLoader\n",
    "import torchvision.transforms as transforms\n",
    "import dgl.geometry\n",
    "import numpy as np\n",
    "# from .utils import read_canonical_model, load_pc, visualize_icp_result\n",
    "# from icp_file import icp\n",
    "import matplotlib\n",
    "import matplotlib.pyplot as plt\n",
    "matplotlib.use('TkAgg')\n",
    "import torch\n",
    "import core.pointnet as pnet\n",
    "importlib.reload(pnet)\n",
    "import utils.dataloader\n",
    "import utils.utils\n",
    "import utils.vision\n",
    "importlib.reload(utils.utils)\n",
    "importlib.reload(utils.vision)\n",
    "importlib.reload(utils.dataloader)\n",
    "import scipy.io as sio\n",
    "import open3d as o3d\n",
    "import cv2\n",
    "\n",
    "\n",
    "def visualize_icp_result(source_pc, target_pc, pose):\n",
    "  '''\n",
    "  Visualize the result of ICP\n",
    "  source_pc: numpy array, (N, 3)\n",
    "  target_pc: numpy array, (N, 3)\n",
    "  pose: SE(4) numpy array, (4, 4)\n",
    "  '''\n",
    "  source_pcd = o3d.geometry.PointCloud()\n",
    "  source_pcd.points = o3d.utility.Vector3dVector(source_pc.reshape(-1, 3))\n",
    "  source_pcd.paint_uniform_color([0, 1, 1])\n",
    "\n",
    "  target_pcd = o3d.geometry.PointCloud()\n",
    "  target_pcd.points = o3d.utility.Vector3dVector(target_pc.reshape(-1, 3))\n",
    "  target_pcd.paint_uniform_color([1, 0, 0])\n",
    "\n",
    "  source_pcd.transform(pose)\n",
    "  #target_pcd.transform(np.linalg.inv(pose))\n",
    "\n",
    "  o3d.visualization.draw_geometries([source_pcd, target_pcd])\n",
    "\n",
    "# with open(\"./models/run_1.yaml\") as f:\n",
    "#     params = yaml.safe_load(f)\n",
    "\n",
    "    \n",
    "dataset= utils.dataloader.EdenDataset(\"/home/mushaikh/private/sample\",\n",
    "#                                             train=True,\n",
    "#                                             use_keypt_downsample = True,\n",
    "                                            keypt_method=\"random\",#params['keypoint_detection']['detection_method']\n",
    "                                           pcd_num_pts=20000# pcd_num_pts=params['keypoint_detection']['pcd_num_pts']\n",
    "                                            )\n",
    "\n",
    "# edenLoader = DataLoader(dataset, batch_size=64, shuffle=True, num_workers=1)"
   ]
  },
  {
   "cell_type": "code",
   "execution_count": 6,
   "metadata": {},
   "outputs": [
    {
     "name": "stdout",
     "output_type": "stream",
     "text": [
      "\u001b[1;33m[Open3D WARNING] GLFW Error: X11: The DISPLAY environment variable is missing\u001b[0;m\n",
      "\u001b[1;33m[Open3D WARNING] Failed to initialize GLFW\u001b[0;m\n",
      "\u001b[1;33m[Open3D WARNING] [DrawGeometries] Failed creating OpenGL window.\u001b[0;m\n"
     ]
    }
   ],
   "source": [
    "pose = dataset[0]['pose']\n",
    "visualize_icp_result(dataset[0]['pcd1'], dataset[0]['pcd2'], invert_pose(pose))"
   ]
  },
  {
   "cell_type": "code",
   "execution_count": 23,
   "metadata": {},
   "outputs": [],
   "source": [
    "positions = np.zeros((500, 3))\n",
    "for j in range(100):\n",
    "    positions[j] = invert_pose(dataset[j]['pose'])[:3,3] # ground truth poses "
   ]
  },
  {
   "cell_type": "code",
   "execution_count": 131,
   "metadata": {},
   "outputs": [],
   "source": [
    "# get pt clouds from open3d library"
   ]
  },
  {
   "cell_type": "code",
   "execution_count": 138,
   "metadata": {
    "collapsed": true,
    "jupyter": {
     "outputs_hidden": true
    },
    "tags": []
   },
   "outputs": [
    {
     "name": "stdout",
     "output_type": "stream",
     "text": [
      "0\n",
      "Rel Pose from ICP [[ 1.00000002e+00 -2.64639460e-05 -4.52836440e-05  2.11443093e-05]\n",
      " [ 2.63724629e-05  9.99999933e-01  2.12384003e-04  1.94850322e-05]\n",
      " [ 4.52499499e-05 -2.12369619e-04  9.99999976e-01  2.62390905e-06]\n",
      " [ 0.00000000e+00  0.00000000e+00  0.00000000e+00  1.00000000e+00]]\n",
      "Initialization angle to ICP:  -5.2429310646979474e-08\n",
      "ICP output angle 0.0002178182519920387\n",
      "    \n",
      "Translation initialization to ICP:  [0. 0. 0.]\n",
      "ICP translation output:  [2.11443093e-05 1.94850322e-05 2.62390905e-06]\n",
      "1\n",
      "Rel Pose from ICP [[ 1.00000002e+00 -5.05475348e-08 -1.40474425e-08  3.83029962e+01]\n",
      " [-5.05475348e-08  9.99999955e-01  7.78660296e-09 -3.21389933e+01]\n",
      " [-1.40474425e-08  7.78660296e-09  1.00000000e+00 -1.95004635e-01]\n",
      " [ 0.00000000e+00  0.00000000e+00  0.00000000e+00  1.00000000e+00]]\n",
      "Initialization angle to ICP:  -5.2429310646979474e-08\n",
      "ICP output angle -5.2429310646979474e-08\n",
      "    \n",
      "Translation initialization to ICP:  [ 38.30299618 -32.13899325  -0.19500463]\n",
      "ICP translation output:  [ 38.30299618 -32.13899325  -0.19500463]\n",
      "2\n",
      "Rel Pose from ICP [[ 1.00000002e+00 -5.05475348e-08 -1.40474425e-08  3.83020035e+01]\n",
      " [-5.05475348e-08  9.99999955e-01  7.78660296e-09 -3.21400142e+01]\n",
      " [-1.40474425e-08  7.78660296e-09  1.00000000e+00 -1.04998641e-01]\n",
      " [ 0.00000000e+00  0.00000000e+00  0.00000000e+00  1.00000000e+00]]\n",
      "Initialization angle to ICP:  -5.2429310646979474e-08\n",
      "ICP output angle -5.2429310646979474e-08\n",
      "    \n",
      "Translation initialization to ICP:  [ 38.30200351 -32.14001416  -0.10499864]\n",
      "ICP translation output:  [ 38.30200351 -32.14001416  -0.10499864]\n",
      "3\n",
      "Rel Pose from ICP [[ 9.99735060e-01 -2.30183066e-02 -1.33860160e-08  4.51541634e+01]\n",
      " [ 2.30182568e-02  9.99735027e-01 -9.70711784e-09 -3.71942952e+01]\n",
      " [ 7.66978386e-10  1.64948396e-08  1.00000000e+00 -4.07701488e-06]\n",
      " [ 0.00000000e+00  0.00000000e+00  0.00000000e+00  1.00000000e+00]]\n",
      "Initialization angle to ICP:  0.02302028995501943\n",
      "ICP output angle 0.02302028995501943\n",
      "    \n",
      "Translation initialization to ICP:  [ 4.51541634e+01 -3.71942952e+01 -4.07701488e-06]\n",
      "ICP translation output:  [ 4.51541634e+01 -3.71942952e+01 -4.07701488e-06]\n",
      "4\n",
      "Rel Pose from ICP [[ 9.96044817e-01 -8.88522860e-02  2.70360987e-09  2.17761460e+01]\n",
      " [ 8.88522361e-02  9.96044784e-01  4.61134119e-08 -2.57699721e+01]\n",
      " [-3.67751113e-08 -2.76807806e-08  9.99999940e-01  5.53426910e-06]\n",
      " [ 0.00000000e+00  0.00000000e+00  0.00000000e+00  1.00000000e+00]]\n",
      "Initialization angle to ICP:  0.08896956824877471\n",
      "ICP output angle 0.08896956824877471\n",
      "    \n",
      "Translation initialization to ICP:  [ 2.17761460e+01 -2.57699721e+01  5.53426910e-06]\n",
      "ICP translation output:  [ 2.17761460e+01 -2.57699721e+01  5.53426910e-06]\n",
      "5\n",
      "Rel Pose from ICP [[ 9.99915113e-01 -1.30298538e-02  5.89778575e-09  3.04466874e+00]\n",
      " [ 1.30297609e-02  9.99915038e-01  1.69430727e-09 -3.89379044e+00]\n",
      " [-7.38600736e-08  3.14980574e-08  9.99999881e-01  9.13153159e-06]\n",
      " [ 0.00000000e+00  0.00000000e+00  0.00000000e+00  1.00000000e+00]]\n",
      "Initialization angle to ICP:  0.013030130800678079\n",
      "ICP output angle 0.013030130800678079\n",
      "    \n",
      "Translation initialization to ICP:  [ 3.04466874e+00 -3.89379044e+00  9.13153159e-06]\n",
      "ICP translation output:  [ 3.04466874e+00 -3.89379044e+00  9.13153159e-06]\n",
      "6\n",
      "Rel Pose from ICP [[ 9.91226780e-01 -1.32172322e-01 -6.95338754e-08  3.32610762e+01]\n",
      " [ 1.32172327e-01  9.91226775e-01 -8.39632243e-08 -3.76645047e+01]\n",
      " [ 8.88821475e-08  6.61050133e-08  1.00000006e+00  1.90976761e-01]\n",
      " [ 0.00000000e+00  0.00000000e+00  0.00000000e+00  1.00000000e+00]]\n",
      "Initialization angle to ICP:  0.13256020867825255\n",
      "ICP output angle 0.13256020867825255\n",
      "    \n",
      "Translation initialization to ICP:  [ 33.26107617 -37.6645047    0.19097676]\n",
      "ICP translation output:  [ 33.26107617 -37.6645047    0.19097676]\n",
      "7\n",
      "Rel Pose from ICP [[ 9.89601095e-01 -1.43839281e-01  6.11763312e-08  8.42747330e+01]\n",
      " [ 1.43839397e-01  9.89601231e-01 -6.27789636e-08 -5.53859940e+01]\n",
      " [ 5.99116842e-08  2.12299776e-08  1.00000024e+00 -1.91002587e-01]\n",
      " [ 0.00000000e+00  0.00000000e+00  0.00000000e+00  1.00000000e+00]]\n",
      "Initialization angle to ICP:  0.1443400393806469\n",
      "ICP output angle 0.1443400393806469\n",
      "    \n",
      "Translation initialization to ICP:  [ 84.27473301 -55.38599397  -0.19100259]\n",
      "ICP translation output:  [ 84.27473301 -55.38599397  -0.19100259]\n",
      "8\n",
      "Rel Pose from ICP [[ 9.96764840e-01 -8.03733077e-02  6.06260965e-08  1.85769420e+01]\n",
      " [ 8.03734362e-02  9.96765041e-01 -7.84625831e-09 -2.72810289e+01]\n",
      " [ 6.38150299e-08 -2.87382335e-08  1.00000024e+00 -1.03572595e-08]\n",
      " [ 0.00000000e+00  0.00000000e+00  0.00000000e+00  1.00000000e+00]]\n",
      "Initialization angle to ICP:  0.08046020359859839\n",
      "ICP output angle 0.08046020359859839\n",
      "    \n",
      "Translation initialization to ICP:  [ 1.85769420e+01 -2.72810289e+01 -1.03572595e-08]\n",
      "ICP translation output:  [ 1.85769420e+01 -2.72810289e+01 -1.03572595e-08]\n",
      "9\n",
      "Rel Pose from ICP [[ 9.89605364e-01 -1.43809629e-01  6.38035494e-08  8.47159093e+01]\n",
      " [ 1.43809644e-01  9.89605423e-01  1.72226492e-07 -5.13820901e+01]\n",
      " [-5.52483141e-08 -1.68196354e-07  1.00000006e+00  2.20903643e+00]\n",
      " [ 0.00000000e+00  0.00000000e+00  0.00000000e+00  1.00000000e+00]]\n",
      "Initialization angle to ICP:  0.1443099996525371\n",
      "ICP output angle 0.1443099996525371\n",
      "    \n",
      "Translation initialization to ICP:  [ 84.71590926 -51.38209006   2.20903643]\n",
      "ICP translation output:  [ 84.71590926 -51.38209006   2.20903643]\n",
      "10\n",
      "Rel Pose from ICP [[ 1.00000002e+00 -2.24181114e-08 -2.53062417e-08  4.98719857e+01]\n",
      " [-2.24181114e-08  9.99999912e-01  4.94038602e-09 -3.56901154e+00]\n",
      " [-2.53062417e-08  4.94038602e-09  9.99999881e-01 -2.20900060e+00]\n",
      " [ 0.00000000e+00  0.00000000e+00  0.00000000e+00  1.00000000e+00]]\n",
      "Initialization angle to ICP:  -2.2243795369776126e-08\n",
      "ICP output angle -2.2243795369776126e-08\n",
      "    \n",
      "Translation initialization to ICP:  [49.87198573 -3.56901154 -2.2090006 ]\n",
      "ICP translation output:  [49.87198573 -3.56901154 -2.2090006 ]\n",
      "11\n",
      "Rel Pose from ICP [[ 1.00000002e+00 -2.24181114e-08 -2.53062417e-08  4.98729997e+01]\n",
      " [-2.24181114e-08  9.99999912e-01  4.94038602e-09 -3.56898558e+00]\n",
      " [-2.53062417e-08  4.94038602e-09  9.99999881e-01 -4.32001466e-01]\n",
      " [ 0.00000000e+00  0.00000000e+00  0.00000000e+00  1.00000000e+00]]\n",
      "Initialization angle to ICP:  -2.2243795369776126e-08\n",
      "ICP output angle -2.2243795369776126e-08\n",
      "    \n",
      "Translation initialization to ICP:  [49.87299965 -3.56898558 -0.43200147]\n",
      "ICP translation output:  [49.87299965 -3.56898558 -0.43200147]\n",
      "12\n",
      "Rel Pose from ICP [[ 9.97795027e-01 -6.63707527e-02 -1.05104223e-08  6.47963150e+01]\n",
      " [ 6.63707340e-02  9.97794970e-01 -4.73363824e-08 -3.28343011e+01]\n",
      " [-1.68926866e-08  5.26740347e-08  9.99999940e-01  4.31998954e-01]\n",
      " [ 0.00000000e+00  0.00000000e+00  0.00000000e+00  1.00000000e+00]]\n",
      "Initialization angle to ICP:  0.06641956309845715\n",
      "ICP output angle 0.06641956309845715\n",
      "    \n",
      "Translation initialization to ICP:  [ 64.79631502 -32.83430108   0.43199895]\n",
      "ICP translation output:  [ 64.79631502 -32.83430108   0.43199895]\n",
      "13\n",
      "Rel Pose from ICP [[ 9.99999967e-01 -6.66133815e-16 -5.28353553e-09  4.99990087e+01]\n",
      " [-6.66133815e-16  9.99999967e-01  8.50427385e-10 -2.50987197e-01]\n",
      " [-5.28353553e-09  8.50427385e-10  1.00000000e+00  2.89989612e-02]\n",
      " [ 0.00000000e+00  0.00000000e+00  0.00000000e+00  1.00000000e+00]]\n",
      "Initialization angle to ICP:  -0.05177874011360722\n",
      "ICP output angle -0.05177874011360722\n",
      "    \n",
      "Translation initialization to ICP:  [ 4.99990087e+01 -2.50987197e-01  2.89989612e-02]\n",
      "ICP translation output:  [ 4.99990087e+01 -2.50987197e-01  2.89989612e-02]\n",
      "14\n",
      "Rel Pose from ICP [[ 9.99999967e-01 -6.66133815e-16 -5.28353553e-09  4.99999588e+01]\n",
      " [-6.66133815e-16  9.99999967e-01  8.50427385e-10 -2.50999834e-01]\n",
      " [-5.28353553e-09  8.50427385e-10  1.00000000e+00 -2.89993384e-02]\n",
      " [ 0.00000000e+00  0.00000000e+00  0.00000000e+00  1.00000000e+00]]\n",
      "Initialization angle to ICP:  -0.05177874011360722\n",
      "ICP output angle -0.05177874011360722\n",
      "    \n",
      "Translation initialization to ICP:  [ 4.99999588e+01 -2.50999834e-01 -2.89993384e-02]\n",
      "ICP translation output:  [ 4.99999588e+01 -2.50999834e-01 -2.89993384e-02]\n",
      "15\n",
      "Rel Pose from ICP [[ 9.99999967e-01 -6.66133815e-16 -5.28353553e-09  4.99990013e+01]\n",
      " [-6.66133815e-16  9.99999967e-01  8.50427385e-10 -2.51009836e-01]\n",
      " [-5.28353553e-09  8.50427385e-10  1.00000000e+00 -1.67873823e-06]\n",
      " [ 0.00000000e+00  0.00000000e+00  0.00000000e+00  1.00000000e+00]]\n",
      "Initialization angle to ICP:  -0.05177874011360722\n",
      "ICP output angle -0.05177874011360722\n",
      "    \n",
      "Translation initialization to ICP:  [ 4.99990013e+01 -2.51009836e-01 -1.67873823e-06]\n",
      "ICP translation output:  [ 4.99990013e+01 -2.51009836e-01 -1.67873823e-06]\n"
     ]
    },
    {
     "data": {
      "image/png": "[encoded data removed]",
      "text/plain": [
       "<Figure size 432x288 with 1 Axes>"
      ]
     },
     "metadata": {
      "needs_background": "light"
     },
     "output_type": "display_data"
    }
   ],
   "source": [
    "# ICP with ground truth\n",
    "\n",
    "batch_size = 64 # number of times stamps\n",
    "poses = np.zeros((4, 4, batch_size))\n",
    "poses[:, :, 0] = invert_pose(dataset[0]['pose']) # Pose of the robot in body frame at time t = 0\n",
    "poses[:, :, 0][:3, 3] = poses[:, :, 0][:3, 3] * 100\n",
    "\n",
    "error_p = np.zeros(batch_size)\n",
    "error_R = np.zeros(batch_size)\n",
    "\n",
    "source = o3d.geometry.PointCloud()\n",
    "target = o3d.geometry.PointCloud()\n",
    "\n",
    "threshold = 0.02 # thresholf for ICP\n",
    "for i in range(batch_size - 1):\n",
    "    \n",
    "    print(i)\n",
    "    \n",
    "    \n",
    "    source.points = o3d.utility.Vector3dVector(dataset[i]['pcd1'].numpy())\n",
    "    target.points = o3d.utility.Vector3dVector(dataset[i]['pcd2'].numpy())\n",
    "    \n",
    "    \n",
    "    trans_init = dataset[i]['rel_pose'].numpy()\n",
    "    trans_init[:3, 3] = dataset[i]['rel_pose'][:3, 3].numpy() * 100\n",
    "        \n",
    "\n",
    "    \n",
    "    reg_p2p = o3d.pipelines.registration.registration_icp(\n",
    "    source, target, threshold, trans_init,\n",
    "    o3d.pipelines.registration.TransformationEstimationPointToPoint())\n",
    "    print(\"Rel Pose from ICP\", reg_p2p.transformation)\n",
    "    \n",
    "    \n",
    "    \n",
    "    \n",
    "#     source = np.transpose(dataset[i]['pose'])[0:3, 0:3].numpy() @ (dataset[i]['pcd1'].numpy() - dataset[i]['pose'][:3, 3].numpy()).T\n",
    "#     target = np.transpose(dataset[i + 1]['pose'])[0:3, 0:3].numpy() @ (dataset[i]['pcd2'].numpy() - dataset[i + 1]['pose'][:3, 3].numpy()).T\n",
    "    \n",
    "    # initialize\n",
    "#     p_initial = dataset[i]['translation'].numpy() \n",
    "#     R_initial = R.from_quat(dataset[i]['quat']) # Rotation between t+1 and t\n",
    "    \n",
    "    #pose_initial = icp(5, target, source, np.eye(3), p_initial) # get initial rotation\n",
    "    \n",
    "    # Run ICP to get the pose at the next time step t_T_t+1\n",
    "#     rel_pose, _ = icp(iters, target, source, dataset[i]['rel_pose'][0:3, 0:3], dataset[i]['rel_pose'][:3, 3])\n",
    "    \n",
    "#     R_rel = rel_pose[0:3, 0:3] # relative rotation from icp\n",
    "#     p_rel = rel_pose[:3, 3] # relative translation from icp\n",
    "    \n",
    "    error_p[i] = np.linalg.norm(reg_p2p.transformation[:3, 3] - trans_init[:3, 3])\n",
    "    error_R[i] = ax.mat2axangle(np.matmul(trans_init[0:3, 0:3].T, reg_p2p.transformation[0:3, 0:3]))[1]\n",
    "    \n",
    "\n",
    "    \n",
    "    \n",
    "    print(\"Initialization angle to ICP: \", ax.mat2axangle(trans_init[0:3, 0:3])[1])\n",
    "    print(\"ICP output angle\", ax.mat2axangle(reg_p2p.transformation[0:3, 0:3])[1])\n",
    "    \n",
    "    print(\"    \")\n",
    "#     print(\"Initialization angle to ICP: \", ax.mat2axangle(trans_init[0:3, 0:3])[1])\n",
    "    print(\"Translation initialization to ICP: \", trans_init[:3, 3])\n",
    "    \n",
    "#     print(\"ICP output angle\", ax.mat2axangle(reg_p2p.transformation[0:3, 0:3])[1])\n",
    "    print(\"ICP translation output: \", reg_p2p.transformation[:3, 3])\n",
    "    \n",
    "    if i == 15:\n",
    "        break\n",
    "\n",
    "    #estimate pose at the next time step\n",
    "    poses[:, :, i + 1] = np.matmul(reg_p2p.transformation, poses[:, :, i]) # world to body pose\n",
    "    \n",
    "    \n",
    "    \n",
    "#     #Update\n",
    "#     prev_rel_pose = reg_p2p.transformation # relative pose estimated by ICP\n",
    "plt.plot(positions[:batch_size,0] * 100,positions[:batch_size,1] * 100)\n",
    "plt.plot(poses[0, -1, :], poses[1, -1, :])\n",
    "plt.show()"
   ]
  },
  {
   "cell_type": "code",
   "execution_count": 361,
   "metadata": {},
   "outputs": [
    {
     "data": {
      "image/png": "[encoded data removed]",
      "text/plain": [
       "<Figure size 432x288 with 1 Axes>"
      ]
     },
     "metadata": {
      "needs_background": "light"
     },
     "output_type": "display_data"
    }
   ],
   "source": [
    "# plt.plot(positions[:batch_size,0] * 100,positions[:batch_size,1] * 100)\n",
    "plt.plot(poses[0, -1, :], poses[1, -1, :])\n",
    "plt.show()"
   ]
  },
  {
   "cell_type": "code",
   "execution_count": 363,
   "metadata": {},
   "outputs": [
    {
     "data": {
      "image/png": "[encoded data removed]",
      "text/plain": [
       "<Figure size 432x288 with 1 Axes>"
      ]
     },
     "metadata": {
      "needs_background": "light"
     },
     "output_type": "display_data"
    }
   ],
   "source": [
    "# plt.plot(error_R)\n",
    "plt.plot(error_p)\n",
    "plt.show()"
   ]
  },
  {
   "cell_type": "code",
   "execution_count": 57,
   "metadata": {},
   "outputs": [
    {
     "data": {
      "text/plain": [
       "tensor([[-8.7852e-01,  4.7771e-01,  4.0847e-08,  1.7796e+00],\n",
       "        [-4.0847e-08, -1.1115e-07, -1.0000e+00,  5.0160e-01],\n",
       "        [-4.7771e-01, -8.7852e-01, -1.1115e-07,  8.4094e+00],\n",
       "        [ 0.0000e+00,  0.0000e+00,  0.0000e+00,  1.0000e+00]])"
      ]
     },
     "execution_count": 57,
     "metadata": {},
     "output_type": "execute_result"
    }
   ],
   "source": [
    "dataset[54]['pose']"
   ]
  },
  {
   "cell_type": "code",
   "execution_count": 58,
   "metadata": {},
   "outputs": [
    {
     "data": {
      "text/plain": [
       "tensor([[-8.7852e-01,  4.7771e-01,  4.0847e-08,  1.3040e+00],\n",
       "        [-4.0847e-08, -1.1115e-07, -1.0000e+00,  5.0000e-01],\n",
       "        [-4.7771e-01, -8.7852e-01, -1.1115e-07,  8.2549e+00],\n",
       "        [ 0.0000e+00,  0.0000e+00,  0.0000e+00,  1.0000e+00]])"
      ]
     },
     "execution_count": 58,
     "metadata": {},
     "output_type": "execute_result"
    }
   ],
   "source": [
    "dataset[55]['pose']"
   ]
  },
  {
   "cell_type": "code",
   "execution_count": 59,
   "metadata": {},
   "outputs": [
    {
     "data": {
      "text/plain": [
       "array([[ 9.99999559e-01,  5.69479336e-08,  5.80596214e-08,\n",
       "        -4.91569875e-01],\n",
       "       [ 5.69479336e-08,  9.99999768e-01,  2.28307959e-07,\n",
       "         9.14294366e-02],\n",
       "       [ 5.80596214e-08,  2.28307959e-07,  9.99999762e-01,\n",
       "        -1.60002464e-03],\n",
       "       [ 0.00000000e+00,  0.00000000e+00,  0.00000000e+00,\n",
       "         1.00000000e+00]])"
      ]
     },
     "execution_count": 59,
     "metadata": {},
     "output_type": "execute_result"
    }
   ],
   "source": [
    "np.dot(utils.utils.invert_pose(dataset[55]['pose']), dataset[54]['pose'])"
   ]
  },
  {
   "cell_type": "code",
   "execution_count": 60,
   "metadata": {},
   "outputs": [],
   "source": [
    "new_pose = dataset[55]['rel_pose']\n",
    "new_pose[:3, 3] = dataset[55]['rel_pose'][:3, 3] \n",
    "visualize_icp_result(dataset[55]['pcd1'], dataset[55]['pcd2'], invert_pose(new_pose))"
   ]
  },
  {
   "cell_type": "code",
   "execution_count": 45,
   "metadata": {},
   "outputs": [
    {
     "name": "stdout",
     "output_type": "stream",
     "text": [
      "0\n",
      "10\n",
      "20\n",
      "30\n",
      "40\n",
      "50\n",
      "60\n"
     ]
    },
    {
     "data": {
      "image/png": "[encoded data removed]",
      "text/plain": [
       "<Figure size 640x480 with 1 Axes>"
      ]
     },
     "metadata": {},
     "output_type": "display_data"
    }
   ],
   "source": [
    "# visualize the trajectory of a sequence\n",
    "\n",
    "batch_size = 64 # number of times stamps\n",
    "iters = 100\n",
    "poses = np.zeros((4, 4, batch_size))\n",
    "poses[:, :, 0] = invert_pose(dataset[0]['pose']) # Pose of the robot in body frame at time t = 0\n",
    "poses[:, :, 0][:3, 3] = poses[:, :, 0][:3, 3] * 100\n",
    "\n",
    "\n",
    "error_p = np.zeros(batch_size)\n",
    "error_R = np.zeros(batch_size)\n",
    "\n",
    "# Pass xyz to Open3D.o3d.geometry.PointCloud and visualize\n",
    "\n",
    "source = o3d.geometry.PointCloud()\n",
    "target = o3d.geometry.PointCloud()\n",
    "\n",
    "threshold = 0.02 # thresholf for ICP\n",
    "for i in range(batch_size - 1):\n",
    "\n",
    "    if i % 10 == 0:\n",
    "        print(i)\n",
    "\n",
    "    \n",
    "    source.points = o3d.utility.Vector3dVector(dataset[i]['pcd1'].numpy())\n",
    "    target.points = o3d.utility.Vector3dVector(dataset[i]['pcd2'].numpy())\n",
    "    \n",
    "    \n",
    "#     trans_init = np.eye(4)\n",
    "    \n",
    "    if i < 5 or i % 10 == 0: # at the beginning I only have ground truth rel pose\n",
    "        trans_init = dataset[i]['rel_pose'].numpy()\n",
    "#         trans_init[:3, 3] = dataset[i]['rel_pose'][:3, 3].numpy() * 100\n",
    "#         trans_init = np.eye(4)\n",
    "        trans_init[0, 3] =  dataset[i]['rel_pose'][0, 3].numpy() * 100\n",
    "        trans_init[1, 3] =  dataset[i]['rel_pose'][1, 3].numpy() * 100\n",
    "\n",
    "    else:\n",
    "        trans_init = deepcopy(reg_p2p.transformation) # assumes model continuity , initialize ICP with prev rel pose\n",
    "#         print(trans_init)\n",
    "#         trans_init[:3, 3] = trans_init[:3, 3] * 100\n",
    "#         trans_init = dataset[i]['rel_pose'].numpy() * 100\n",
    "\n",
    "    \n",
    "        \n",
    "        \n",
    "    \n",
    "    reg_p2p = o3d.pipelines.registration.registration_icp(\n",
    "    source, target, threshold, trans_init,\n",
    "    o3d.pipelines.registration.TransformationEstimationPointToPoint # run ICPs\n",
    "#     print(reg_p2p.transformation)\n",
    "        \n",
    "    \n",
    "#     source = np.transpose(dataset[i]['pose'])[0:3, 0:3].numpy() @ (dataset[i]['pcd1'].numpy() - dataset[i]['pose'][:3, 3].numpy()).T\n",
    "#     target = np.transpose(dataset[i + 1]['pose'])[0:3, 0:3].numpy() @ (dataset[i]['pcd2'].numpy() - dataset[i + 1]['pose'][:3, 3].numpy()).T\n",
    "    \n",
    "    # initialize\n",
    "#     p_initial = dataset[i]['translation'].numpy() \n",
    "#     R_initial = R.from_quat(dataset[i]['quat']) # Rotation between t+1 and t\n",
    "    \n",
    "    #pose_initial = icp(5, target, source, np.eye(3), p_initial) # get initial rotation\n",
    "    \n",
    "    # Run ICP to get the pose at the next time step t_T_t+1\n",
    "#     rel_pose, _ = icp(iters, target, source, dataset[i]['rel_pose'][0:3, 0:3], dataset[i]['rel_pose'][:3, 3])\n",
    "    \n",
    "#     R_rel = rel_pose[0:3, 0:3] # relative rotation from icp\n",
    "#     p_rel = rel_pose[:3, 3] # relative translation from icp\n",
    "    \n",
    "#     error_p[i] = np.linalg.norm(p_rel - dataset[i]['rel_pose'].numpy()[:3, 3])\n",
    "#     error_R[i] = ax.mat2axangle(np.matmul(R_rel, dataset[i]['rel_pose'][0:3, 0:3]))[1]\n",
    "\n",
    "        \n",
    "#     print(\"Initialization angle to ICP: \", ax.mat2axangle(trans_init[0:3, 0:3])[1])\n",
    "#     print(\"ICP output angle\", ax.mat2axangle(reg_p2p.transformation[0:3, 0:3])[1])\n",
    "    \n",
    "#     print(\"    \")\n",
    "# #     print(\"Initialization angle to ICP: \", ax.mat2axangle(trans_init[0:3, 0:3])[1])\n",
    "#     print(\"Translation initialization to ICP: \", trans_init[:3, 3])\n",
    "    \n",
    "# #     print(\"ICP output angle\", ax.mat2axangle(reg_p2p.transformation[0:3, 0:3])[1])\n",
    "#     print(\"ICP translation output: \", reg_p2p.transformation[:3, 3])\n",
    "    \n",
    "#     print(\"\")\n",
    "    \n",
    "#     if i == 50:\n",
    "    \n",
    "#         break\n",
    "\n",
    "    #estimate pose at the next time step\n",
    "    poses[:, :, i + 1] = np.matmul(reg_p2p.transformation, poses[:, :, i]) # world to body pose\n",
    "#     poses[:, :, i + 1] = np.matmul(poses[:, :, i], reg_p2p.transformation) # world to body pose\n",
    "    \n",
    "    \n",
    "    \n",
    "    #Update\n",
    "#     prev_rel_pose = reg_p2p.transformation # relative pose estimated by ICP\n",
    "    \n",
    "\n",
    "# Invert poses for plotting purposes\n",
    "# for i in range(64):\n",
    "#     poses[:, :, i] = invert_pose(poses[:, :, i])\n",
    "\n",
    "\n",
    "\n",
    "\n",
    "plt.plot(positions[:batch_size,0] * 100, positions[:batch_size,1] * 100)\n",
    "plt.plot(poses[0, -1, :], poses[1, -1, :])\n",
    "plt.show()"
   ]
  },
  {
   "cell_type": "code",
   "execution_count": 46,
   "metadata": {},
   "outputs": [],
   "source": [
    "# get pose estimates and ground truths in correct data format\n",
    "\n",
    "mat_est = np.zeros((64, 8))\n",
    "mat_gt = np.zeros((64, 8))\n",
    "for i in range(batch_size):\n",
    "\n",
    "\n",
    "    mat_est[i, :] = np.append(i, np.append(poses[:, :, i][:3, 3], mat2quat(poses[:, :, i][0:3, 0:3])[::-1]))\n",
    "    mat_gt[i, :] = np.append(i, np.append(invert_pose(dataset[i]['pose'])[:3, 3] * 100, mat2quat(invert_pose(dataset[i]['pose'])[0:3, 0:3])))\n",
    "    \n",
    "\n",
    "\n",
    "\n",
    "filename_est = 'rpg_trajectory_evaluation/results/plotting_test/stamped_traj_estimate.txt'\n",
    "filename_gt = 'rpg_trajectory_evaluation/results/plotting_test/stamped_groundtruth.txt'\n",
    "\n",
    "# Save the matrix to the text file with the desired format\n",
    "np.savetxt(filename_est, mat_est, fmt='%.10e', delimiter=' ')\n",
    "np.savetxt(filename_gt, mat_gt, fmt='%.10e', delimiter=' ')"
   ]
  },
  {
   "cell_type": "code",
   "execution_count": null,
   "metadata": {},
   "outputs": [],
   "source": [
    "# run evo_traj \n",
    "!evo_traj tum rpg_trajectory_evaluation/results/plotting_test/stamped_traj_estimate.txt --ref=rpg_trajectory_evaluation/results/plotting_test/stamped_groundtruth.txt -p --plot_mode=xy"
   ]
  },
  {
   "cell_type": "code",
   "execution_count": null,
   "metadata": {},
   "outputs": [],
   "source": [
    "# run evo_res for tables, histograms\n",
    "!evo_res test_tum.zip -p --save_table ./table.csv"
   ]
  }
 ],
 "metadata": {
  "kernelspec": {
   "display_name": "Python 3 (ipykernel)",
   "language": "python",
   "name": "python3"
  },
  "language_info": {
   "codemirror_mode": {
    "name": "ipython",
    "version": 3
   },
   "file_extension": ".py",
   "mimetype": "text/x-python",
   "name": "python",
   "nbconvert_exporter": "python",
   "pygments_lexer": "ipython3",
   "version": "3.9.5"
  }
 },
 "nbformat": 4,
 "nbformat_minor": 4
}
